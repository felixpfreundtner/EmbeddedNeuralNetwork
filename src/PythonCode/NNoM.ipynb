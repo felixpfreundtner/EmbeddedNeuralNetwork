{
 "cells": [
  {
   "cell_type": "code",
   "execution_count": 1,
   "metadata": {},
   "outputs": [
    {
     "name": "stdout",
     "output_type": "stream",
     "text": [
      "WARNING:tensorflow:From c:\\users\\davam\\appdata\\local\\programs\\python\\python36\\lib\\site-packages\\tensorflow\\python\\compat\\v2_compat.py:96: disable_resource_variables (from tensorflow.python.ops.variable_scope) is deprecated and will be removed in a future version.\n",
      "Instructions for updating:\n",
      "non-resource variables are not supported in the long term\n"
     ]
    },
    {
     "name": "stderr",
     "output_type": "stream",
     "text": [
      "Using TensorFlow backend.\n"
     ]
    }
   ],
   "source": [
    "from nnom_utils import * \n",
    "import tensorflow.compat.v1 as tf\n",
    "tf.disable_v2_behavior()\n",
    "tf.enable_eager_execution()\n",
    "from tensorflow import keras"
   ]
  },
  {
   "cell_type": "code",
   "execution_count": 2,
   "metadata": {},
   "outputs": [
    {
     "name": "stdout",
     "output_type": "stream",
     "text": [
      "WARNING:tensorflow:No training configuration found in the save file, so the model was *not* compiled. Compile it manually.\n",
      "conv2d_input:0 max value: 0.9999695 min value: 0.0 dec bit 7\n",
      "KLD loss [15.191563287360935, 0.651748321288354, 0.5596122502846393, 0.47579545274933666]\n",
      "KLD shift [6, 7, 8, 9]\n",
      "conv2d is using KLD method, original shift 6 KLD results 9\n",
      "conv2d max value: 1.1409997 min value: -0.7908763 dec bit 9\n",
      "KLD loss [4.1707345748283755, 4.17453103056228, 4.174531525561795, 7.34548771150255]\n",
      "KLD shift [7, 8, 9, 10]\n",
      "batch_normalization max value: 0.13591196 min value: -0.8908278 dec bit 7\n",
      "KLD loss [4.1707345748283755, 4.17453103056228, 4.174531525561795, 7.34548771150255]\n",
      "KLD shift [7, 8, 9, 10]\n",
      "activation max value: 0.13591196 min value: -0.8908278 dec bit 7\n",
      "KLD loss [4.1707345748283755, 4.17453103056228, 4.174531525561795, 7.34548771150255]\n",
      "KLD shift [7, 8, 9, 10]\n",
      "max_pooling2d max value: 0.13591196 min value: -0.8908278 dec bit 7\n",
      "KLD loss [4.1707345748283755, 4.17453103056228, 4.174531525561795, 7.34548771150255]\n",
      "KLD shift [7, 8, 9, 10]\n",
      "dropout max value: 0.13591196 min value: -0.8908278 dec bit 7\n",
      "KLD loss [5.496382083042781, 6.2979140094925885, 7.342859846500119, 16.453663084355004]\n",
      "KLD shift [7, 8, 9, 10]\n",
      "conv2d_1 max value: 0.10856347 min value: -0.59155524 dec bit 7\n",
      "KLD loss [2.296152792857792, 4.138333448758513, 10.682775639659553, 19.419875089012265]\n",
      "KLD shift [8, 9, 10, 11]\n",
      "batch_normalization_1 max value: 0.25561744 min value: -0.47573903 dec bit 8\n",
      "KLD loss [2.296152792857792, 4.138333448758513, 10.682775639659553, 19.419875089012265]\n",
      "KLD shift [8, 9, 10, 11]\n",
      "activation_1 max value: 0.25561744 min value: -0.47573903 dec bit 8\n",
      "KLD loss [2.296152792857792, 4.138333448758513, 10.682775639659553, 19.419875089012265]\n",
      "KLD shift [8, 9, 10, 11]\n",
      "max_pooling2d_1 max value: 0.25561744 min value: -0.47573903 dec bit 8\n",
      "KLD loss [2.296152792857792, 4.138333448758513, 10.682775639659553, 19.419875089012265]\n",
      "KLD shift [8, 9, 10, 11]\n",
      "dropout_1 max value: 0.25561744 min value: -0.47573903 dec bit 8\n",
      "KLD loss [2.575478200545808, 9.951585284676643, 16.697594039475398, 18.506958533370348]\n",
      "KLD shift [8, 9, 10, 11]\n",
      "conv2d_2 max value: 0.37328225 min value: -0.44671863 dec bit 8\n",
      "KLD loss [4.228979700861883, 9.642245863968, 13.75235949304604, 19.492847327299145]\n",
      "KLD shift [8, 9, 10, 11]\n",
      "batch_normalization_2 max value: 0.48478436 min value: -0.36911407 dec bit 8\n",
      "KLD loss [4.228979700861883, 9.642245863968, 13.75235949304604, 19.492847327299145]\n",
      "KLD shift [8, 9, 10, 11]\n",
      "activation_2 max value: 0.48478436 min value: -0.36911407 dec bit 8\n",
      "KLD loss [4.228979700861883, 9.642245863968, 13.75235949304604, 19.492847327299145]\n",
      "KLD shift [8, 9, 10, 11]\n",
      "max_pooling2d_2 max value: 0.48478436 min value: -0.36911407 dec bit 8\n",
      "KLD loss [4.228979700861883, 9.642245863968, 13.75235949304604, 19.492847327299145]\n",
      "KLD shift [8, 9, 10, 11]\n",
      "dropout_2 max value: 0.48478436 min value: -0.36911407 dec bit 8\n",
      "KLD loss [4.228979700861883, 9.642245863968, 13.75235949304604, 19.492847327299145]\n",
      "KLD shift [8, 9, 10, 11]\n",
      "flatten max value: 0.48478436 min value: -0.36911407 dec bit 8\n",
      "dense max value: 3.1506763 min value: -2.5877852 dec bit 5\n",
      "dense_1 max value: 5.8789177 min value: -5.0858803 dec bit 4\n",
      "dense_2 max value: 8.034223 min value: -8.60577 dec bit 3\n",
      "activation_3 max value: 0.9938881 min value: 5.902903e-08 dec bit 7\n",
      "shift list {'conv2d_input': 7, 'conv2d': 7, 'batch_normalization': 7, 'activation': 7, 'max_pooling2d': 7, 'dropout': 7, 'conv2d_1': 8, 'batch_normalization_1': 8, 'activation_1': 8, 'max_pooling2d_1': 8, 'dropout_1': 8, 'conv2d_2': 8, 'batch_normalization_2': 8, 'activation_2': 8, 'max_pooling2d_2': 8, 'dropout_2': 8, 'flatten': 8, 'dense': 5, 'dense_1': 4, 'dense_2': 3, 'activation_3': 7}\n",
      "weights for layer conv2d\n",
      "  weight: conv2d/kernel:0\n",
      "  original shape:  (3, 3, 2, 8)\n",
      "  dec bit 8\n",
      "  reshape to: (8, 3, 3, 2)\n",
      "  bias:  conv2d/bias:0\n",
      "  original shape:  (8,)\n",
      "  dec bit 11\n",
      "  reshape to: (8,)\n",
      "weights for layer batch_normalization\n",
      "weights for layer conv2d_1\n",
      "  weight: conv2d_1/kernel:0\n",
      "  original shape:  (3, 3, 8, 8)\n",
      "  dec bit 7\n",
      "  reshape to: (8, 3, 3, 8)\n",
      "  bias:  conv2d_1/bias:0\n",
      "  original shape:  (8,)\n",
      "  dec bit 10\n",
      "  reshape to: (8,)\n",
      "weights for layer batch_normalization_1\n",
      "weights for layer conv2d_2\n",
      "  weight: conv2d_2/kernel:0\n",
      "  original shape:  (3, 3, 8, 8)\n",
      "  dec bit 8\n",
      "  reshape to: (8, 3, 3, 8)\n",
      "  bias:  conv2d_2/bias:0\n",
      "  original shape:  (8,)\n",
      "  dec bit 8\n",
      "  reshape to: (8,)\n",
      "weights for layer batch_normalization_2\n",
      "weights for layer dense\n",
      "  weight: dense/kernel:0\n",
      "  original shape:  (768, 32)\n",
      "  dec bit 9\n",
      "  reshape to: (32, 768)\n",
      "  bias:  dense/bias:0\n",
      "  original shape:  (32,)\n",
      "  dec bit 12\n",
      "  reshape to: (32,)\n",
      "weights for layer dense_1\n",
      "  weight: dense_1/kernel:0\n",
      "  original shape:  (32, 16)\n",
      "  dec bit 8\n",
      "  reshape to: (16, 32)\n",
      "  bias:  dense_1/bias:0\n",
      "  original shape:  (16,)\n",
      "  dec bit 11\n",
      "  reshape to: (16,)\n",
      "weights for layer dense_2\n",
      "  weight: dense_2/kernel:0\n",
      "  original shape:  (16, 8)\n",
      "  dec bit 7\n",
      "  reshape to: (8, 16)\n",
      "  bias:  dense_2/bias:0\n",
      "  original shape:  (8,)\n",
      "  dec bit 11\n",
      "  reshape to: (8,)\n"
     ]
    }
   ],
   "source": [
    "nptest = np.load('X_validateBig.npy')/32768\n",
    "\n",
    "model = keras.models.load_model(\"./FinalWithoutGRU_forNNoM.h5\")\n",
    "generate_model(model, nptest, name='weights.h')"
   ]
  },
  {
   "cell_type": "code",
   "execution_count": null,
   "metadata": {},
   "outputs": [],
   "source": []
  }
 ],
 "metadata": {
  "kernelspec": {
   "display_name": "Python 3",
   "language": "python",
   "name": "python3"
  },
  "language_info": {
   "codemirror_mode": {
    "name": "ipython",
    "version": 3
   },
   "file_extension": ".py",
   "mimetype": "text/x-python",
   "name": "python",
   "nbconvert_exporter": "python",
   "pygments_lexer": "ipython3",
   "version": "3.6.8"
  }
 },
 "nbformat": 4,
 "nbformat_minor": 2
}
