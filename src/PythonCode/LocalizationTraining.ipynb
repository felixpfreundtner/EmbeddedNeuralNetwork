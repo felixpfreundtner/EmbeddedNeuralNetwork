{
 "cells": [
  {
   "cell_type": "code",
   "execution_count": 1,
   "metadata": {},
   "outputs": [],
   "source": [
    "# Import the necessary packages\n",
    "import os\n",
    "import numpy as np\n",
    "import numpy.matlib\n",
    "import math\n",
    "from itertools import *\n",
    "import more_itertools\n",
    "from scipy import signal\n",
    "from scipy.fftpack import fftshift\n",
    "from scipy.io import wavfile\n",
    "import matplotlib.pyplot as plt\n",
    "import pyfftw\n",
    "import simplespectral\n",
    " \n",
    "from sklearn.model_selection import train_test_split\n",
    "import tensorflow as tf\n",
    "from tensorflow import keras\n",
    "\n"
   ]
  },
  {
   "cell_type": "code",
   "execution_count": 2,
   "metadata": {},
   "outputs": [],
   "source": [
    "# parameters\n",
    "user = \"Parham\"\n",
    "fs = 16000;\n",
    "filesN = 1132;\n",
    "angleN = 8;\n",
    "micN= 2;\n",
    "windowIncrease = 0.1 #in sec\n",
    "windowSize = 5 #in sec\n",
    "filterOrder = 10\n",
    "filterBand = [200,5000] #in Hertz\n",
    "fftWindowN = 257 # singlesided\n",
    "featureType = \"magnitude\"\n",
    "speakerType = [\"cmu_us_jmk_arctic\"]#, \"cmu_us_bdl_arctic\", \"cmu_us_clb_arctic\", \"cmu_us_jmk_arctic\"] # , \"cmu_us_ksp_arctic\", \"cmu_us_rms_arctic\", \"cmu_us_slt_arctic\"\n",
    "speakerTypeN = 1\n",
    "if user == \"Felix\":\n",
    "    folderPath = \"./../../../../Shared/SoundLocalization/speech_database/\" + str(math.ceil(fs/1000)) + \"khz\" + \"/\"\n",
    "else:\n",
    "    folderPath = \"./../Polybox/SoundLocalization/speech_database/\" + str(math.ceil(fs/1000)) + \"khz\"\n",
    "#audioCh1Data = np.ndarray([0,windowSize*fs])\n",
    "#audioCh2Data = np.ndarray([0,windowSize*fs])\n",
    "readBatchOn = True;\n",
    "filterOn = False;"
   ]
  },
  {
   "cell_type": "code",
   "execution_count": 3,
   "metadata": {},
   "outputs": [
    {
     "name": "stdout",
     "output_type": "stream",
     "text": [
      "read data file\n",
      "finish load data file\n",
      "(1031034656, 2)\n",
      "(1132, 8, 443, 257, 2)\n",
      "data reshaped\n",
      "(1, 1132, 8, 443, 257, 2)\n",
      "finished all data files' load\n"
     ]
    }
   ],
   "source": [
    "# read in data\n",
    "\n",
    "# init\n",
    "audioCh1Data = []\n",
    "audioCh2Data = []\n",
    "Y = []\n",
    "count = 0\n",
    "folderN = len(speakerType)\n",
    "if fs == 16000:\n",
    "    if featureType == \"raw\":\n",
    "        samplesN = 113599;\n",
    "        data = np.zeros((samplesN, angleN, filesN, micN, speakerTypeN), dtype = np.int16)\n",
    "    if featureType == \"magnitude\":\n",
    "        samplesN = 113851;\n",
    "        fftWindowT = int(samplesN / fftWindowN);\n",
    "        data = np.zeros((speakerTypeN,filesN, angleN, fftWindowT, fftWindowN, micN), dtype = np.int16) # fftWindowN, fftWindowT, angleN, filesN, speakerTypeN, micN\n",
    "\n",
    "# read data\n",
    "for folder_i in range(speakerTypeN):\n",
    "    if readBatchOn:\n",
    "\n",
    "        # read data file\n",
    "        print (\"read data file\")\n",
    "        fs, data_i = wavfile.read(folderPath + \"/\" + speakerType[folder_i] + \"_\" + featureType + \".wav\")\n",
    "        print (\"finish load data file\")\n",
    "        print (np.shape(data_i))\n",
    "        \n",
    "        # \n",
    "        if filterOn:\n",
    "            sos = signal.butter(filterOrder, filterBand, 'bp', fs=fs, output='sos')\n",
    "            data_i[:,0] = signal.sosfilt(sos, data_i[:,0])\n",
    "            data_i[:,1] = signal.sosfilt(sos, data_i[:,1])\n",
    "            \n",
    "        # reshape into invidual databases\n",
    "        if featureType == \"raw\":\n",
    "            data_i = np.reshape(data_i, (samplesN, angleN, filesN, micN))\n",
    "        if featureType == \"magnitude\":            \n",
    "            data_i = np.reshape(data_i, (filesN, angleN, fftWindowT, fftWindowN, micN))\n",
    "            print (np.shape(data_i))\n",
    "            \n",
    "        # merge into one database\n",
    "        data[folder_i,:,:,:,:,:] = data_i\n",
    "        \n",
    "        print(\"data reshaped\")\n",
    "        print(np.shape(data))\n",
    "        \n",
    "    else:\n",
    "        for i in os.listdir(folderPath + folder):           # iteration over all single data files\n",
    "            \n",
    "            # get meta data\n",
    "            deg = int(i[i.rfind(\"_\")+1:i.find(\"degree\")])/180*math.pi # read angle\n",
    "            dist = 1 # read distance\n",
    "            number = int(i[i.rfind(\"arctic\")+7:i.find(str(math.ceil(fs/1000)) + \"k\")-1]) # read file number\n",
    "            \n",
    "            # read data file\n",
    "            tempData = data\n",
    "            audioCh1 = data[:,0]\n",
    "            audioCh2 = data[:,1]\n",
    "            \n",
    "            # filter\n",
    "            if filterOn:\n",
    "                sos = signal.butter(filterOrder, filterBand, 'bp', fs=fs, output='sos')\n",
    "                audioCh1 = signal.sosfilt(sos, audioCh1)\n",
    "                audioCh2 = signal.sosfilt(sos, audioCh2)\n",
    "        \n",
    "            # window (rectangular)\n",
    "            tempData = list(more_itertools.windowed(audioCh1, n=int(windowSize*fs), step=int(windowIncrease*fs)))\n",
    "            tempData.pop()\n",
    "            audioCh1Data.extend(tempData)\n",
    "        \n",
    "            tempData = list(more_itertools.windowed(audioCh2, n=int(windowSize*fs), step=int(windowIncrease*fs)))\n",
    "            tempData.pop()\n",
    "            audioCh2Data.extend(tempData)\n",
    "        \n",
    "            # resphape into one array\n",
    "            dataSize = (np.shape(tempData))[0]\n",
    "            Y.extend(list(np.repeat([dist,deg],dataSize))) \n",
    "        \n",
    "            # log\n",
    "            print (i)\n",
    "            \n",
    "print (\"finished all data files' load\")"
   ]
  },
  {
   "cell_type": "code",
   "execution_count": 4,
   "metadata": {},
   "outputs": [
    {
     "name": "stdout",
     "output_type": "stream",
     "text": [
      "(1, 1132, 8, 443, 257, 2)\n",
      "(9056, 1)\n",
      "(9056, 50, 257, 2)\n"
     ]
    },
    {
     "data": {
      "image/png": "[encoded data removed]",
      "text/plain": [
       "<Figure size 864x576 with 4 Axes>"
      ]
     },
     "metadata": {
      "needs_background": "light"
     },
     "output_type": "display_data"
    }
   ],
   "source": [
    "# calculate features\n",
    "                        # speaker, file number, angle, time bins, frequency bins, channel\n",
    "\n",
    "# clip dataset to just 1.4sec of data\n",
    "fftWindowT_clipped = 50;\n",
    "data_clipped = data[:,:,:,100:100+fftWindowT_clipped,:,:]\n",
    "# show dimensions\n",
    "print (np.shape(data)) \n",
    "\n",
    "# visualize features\n",
    "plt.figure(figsize=(12, 8))\n",
    "plt.subplot (221)\n",
    "plot_data = data_clipped[0,1131,0,:,:,0]\n",
    "plot_data = plot_data / np.amax(np.amax(plot_data))\n",
    "plt.pcolormesh(plot_data.transpose())\n",
    "plt.ylabel('Frequency [Hz]')\n",
    "plt.xlabel('Time [sec]')\n",
    "plt.subplot (222)\n",
    "plot_data = data_clipped[0,1131,0,:,:,1]\n",
    "plot_data = plot_data / np.amax(np.amax(plot_data))\n",
    "plt.pcolormesh(plot_data.transpose())\n",
    "plt.ylabel('Frequency [Hz]')\n",
    "plt.xlabel('Time [sec]')\n",
    "\n",
    "# prepare features for neural network\n",
    "X = np.reshape(data_clipped, (angleN * filesN * speakerTypeN, fftWindowT_clipped, fftWindowN, micN))\n",
    "\n",
    "plt.subplot (223)\n",
    "plot_data = X[9048,:,:,0]\n",
    "plot_data = plot_data / np.amax(np.amax(plot_data))\n",
    "plt.pcolormesh(plot_data.transpose())\n",
    "plt.ylabel('Frequency [Hz]')\n",
    "plt.xlabel('Time [sec]')\n",
    "plt.subplot (224)\n",
    "plot_data = X[9048,:,:,1]\n",
    "plot_data = plot_data / np.amax(np.amax(plot_data))\n",
    "plt.pcolormesh(plot_data.transpose())\n",
    "plt.ylabel('Frequency [Hz]')\n",
    "plt.xlabel('Time [sec]')\n",
    "\n",
    "# get meta data\n",
    "deg = np.linspace(0, 315, angleN)\n",
    "deg = np.matlib.repmat(deg, 1, filesN  * speakerTypeN).transpose()\n",
    "#dist = np.full((filesN * angleN * speakerTypeN, 1), 1)\n",
    "\n",
    "# prepare lables for neural network\n",
    "#Y = np.vstack((deg.T, dist.T)).T\n",
    "Y = deg#/360\n",
    "print (np.shape(Y)) # speaker-angle-file number, angle, distance\n",
    "print (np.shape(X)) # speaker-angle-file number, time bins, frequency bins, channel\n"
   ]
  },
  {
   "cell_type": "code",
   "execution_count": 13,
   "metadata": {},
   "outputs": [
    {
     "name": "stdout",
     "output_type": "stream",
     "text": [
      "92\n",
      "0\n",
      "(7244, 50, 65, 2)\n",
      "(1812, 50, 65, 2)\n",
      "(7244, 8)\n",
      "(1812, 8)\n"
     ]
    }
   ],
   "source": [
    "print (np.max(X))\n",
    "print (np.min(X))\n",
    "\n",
    "XFFTSmall = X[:,:,0:257:4,:]\n",
    "\n",
    "X_train, X_validate, Y_train, Y_validate = train_test_split(XFFTSmall, Y, test_size = 0.2, random_state = 2)\n",
    "\n",
    "Y_train = Y_train/45\n",
    "Y_train = keras.utils.to_categorical (Y_train,8)\n",
    "Y_validate = Y_validate/45\n",
    "Y_validate = keras.utils.to_categorical (Y_validate,8)\n",
    "\n",
    "print (np.shape(X_train))\n",
    "print (np.shape(X_validate))\n",
    "print (np.shape(Y_train))\n",
    "print (np.shape(Y_validate))\n",
    "\n",
    "# X_train = X_train.astype('float16')\n",
    "# X_validate = X_validate.astype('float16')\n",
    "# Y_train = Y_train.astype('float16')\n",
    "# Y_validate = Y_validate.astype('float16')"
   ]
  },
  {
   "cell_type": "code",
   "execution_count": 15,
   "metadata": {},
   "outputs": [
    {
     "name": "stdout",
     "output_type": "stream",
     "text": [
      "Epoch 1/30\n",
      "145/145 [==============================] - 10s 67ms/step - loss: 2.2258 - accuracy: 0.1469\n",
      "Epoch 2/30\n",
      "145/145 [==============================] - 10s 66ms/step - loss: 1.9335 - accuracy: 0.2245\n",
      "Epoch 3/30\n",
      "145/145 [==============================] - 10s 67ms/step - loss: 1.7473 - accuracy: 0.3154\n",
      "Epoch 4/30\n",
      "145/145 [==============================] - 11s 75ms/step - loss: 1.4772 - accuracy: 0.4181\n",
      "Epoch 5/30\n",
      "145/145 [==============================] - 11s 74ms/step - loss: 1.1964 - accuracy: 0.5399\n",
      "Epoch 6/30\n",
      "145/145 [==============================] - 11s 74ms/step - loss: 1.0527 - accuracy: 0.5988\n",
      "Epoch 7/30\n",
      "145/145 [==============================] - 11s 74ms/step - loss: 0.9587 - accuracy: 0.6307\n",
      "Epoch 8/30\n",
      "145/145 [==============================] - 11s 74ms/step - loss: 0.9016 - accuracy: 0.6641\n",
      "Epoch 9/30\n",
      "145/145 [==============================] - 11s 74ms/step - loss: 0.8687 - accuracy: 0.6759\n",
      "Epoch 10/30\n",
      "145/145 [==============================] - 11s 75ms/step - loss: 0.8372 - accuracy: 0.6851\n",
      "Epoch 11/30\n",
      "145/145 [==============================] - 11s 78ms/step - loss: 0.8252 - accuracy: 0.6888\n",
      "Epoch 12/30\n",
      "145/145 [==============================] - 11s 79ms/step - loss: 0.8066 - accuracy: 0.6982\n",
      "Epoch 13/30\n",
      "145/145 [==============================] - 11s 78ms/step - loss: 0.7800 - accuracy: 0.7083\n",
      "Epoch 14/30\n",
      "145/145 [==============================] - 12s 83ms/step - loss: 0.7831 - accuracy: 0.70582s - loss: 0.7834 - accura - ETA: 1s - loss: 0.7802 - accuracy: 0.70\n",
      "Epoch 15/30\n",
      "145/145 [==============================] - 13s 92ms/step - loss: 0.7605 - accuracy: 0.7188\n",
      "Epoch 16/30\n",
      "145/145 [==============================] - 14s 95ms/step - loss: 0.7446 - accuracy: 0.7261\n",
      "Epoch 17/30\n",
      "145/145 [==============================] - 12s 86ms/step - loss: 0.7218 - accuracy: 0.7269\n",
      "Epoch 18/30\n",
      "145/145 [==============================] - 13s 87ms/step - loss: 0.7387 - accuracy: 0.7293\n",
      "Epoch 19/30\n",
      "145/145 [==============================] - 12s 84ms/step - loss: 0.7293 - accuracy: 0.7297\n",
      "Epoch 20/30\n",
      "145/145 [==============================] - 11s 79ms/step - loss: 0.7297 - accuracy: 0.7239\n",
      "Epoch 21/30\n",
      "145/145 [==============================] - 11s 77ms/step - loss: 0.7062 - accuracy: 0.7385\n",
      "Epoch 22/30\n",
      "145/145 [==============================] - 11s 75ms/step - loss: 0.6977 - accuracy: 0.7405\n",
      "Epoch 23/30\n",
      "145/145 [==============================] - 11s 74ms/step - loss: 0.6913 - accuracy: 0.7435\n",
      "Epoch 24/30\n",
      "145/145 [==============================] - 12s 80ms/step - loss: 0.6884 - accuracy: 0.7452\n",
      "Epoch 25/30\n",
      "145/145 [==============================] - 11s 76ms/step - loss: 0.6886 - accuracy: 0.7450\n",
      "Epoch 26/30\n",
      "145/145 [==============================] - 11s 79ms/step - loss: 0.6780 - accuracy: 0.7492\n",
      "Epoch 27/30\n",
      "145/145 [==============================] - 11s 78ms/step - loss: 0.6622 - accuracy: 0.7518\n",
      "Epoch 28/30\n",
      "145/145 [==============================] - 11s 78ms/step - loss: 0.6689 - accuracy: 0.7504\n",
      "Epoch 29/30\n",
      "145/145 [==============================] - 12s 80ms/step - loss: 0.6649 - accuracy: 0.7561\n",
      "Epoch 30/30\n",
      "145/145 [==============================] - 12s 80ms/step - loss: 0.6469 - accuracy: 0.7500\n"
     ]
    },
    {
     "data": {
      "text/plain": [
       "<tensorflow.python.keras.callbacks.History at 0x1956dc8e6d8>"
      ]
     },
     "execution_count": 15,
     "metadata": {},
     "output_type": "execute_result"
    }
   ],
   "source": [
    "# Define batchsize and number of epochs\n",
    "batchSize = 50\n",
    "nEpochs = 30\n",
    "\n",
    "#keras.backend.set_floatx('float16')\n",
    "\n",
    "# Declare the sequential model and design your multi-layer perceptron\n",
    "model = keras.models.Sequential()\n",
    "\n",
    "model.add (keras.layers.InputLayer(input_shape=X_train.shape[1:]))\n",
    "\n",
    "model.add(keras.layers.Conv2D(4, (3, 3), padding='same'))\n",
    "model.add(keras.layers.BatchNormalization())\n",
    "model.add(keras.layers.Activation('relu'))\n",
    "model.add(keras.layers.MaxPooling2D(pool_size=(1,4)))\n",
    "model.add(keras.layers.Dropout(0.2))\n",
    "\n",
    "model.add(keras.layers.Conv2D(4, (3, 3), padding='same'))\n",
    "model.add(keras.layers.BatchNormalization())\n",
    "model.add(keras.layers.Activation('relu'))\n",
    "model.add(keras.layers.MaxPooling2D(pool_size=(1,4)))\n",
    "model.add(keras.layers.Dropout(0.2))\n",
    "\n",
    "model.add(keras.layers.Conv2D(4, (3, 3), padding='same'))\n",
    "model.add(keras.layers.BatchNormalization())\n",
    "model.add(keras.layers.Activation('relu'))\n",
    "model.add(keras.layers.MaxPooling2D(pool_size=(1,2)))\n",
    "model.add(keras.layers.Dropout(0.2))\n",
    "\n",
    "#model.add(Reshape((4,fftWindowT_clipped)))\n",
    "#model.add(Bidirectional(GRU(4,activation='tanh',return_sequences=True),merge_mode='mul'))\n",
    "\n",
    "model.add(keras.layers.Flatten())\n",
    "model.add(keras.layers.Dense(32))\n",
    "model.add(keras.layers.Dense(16))\n",
    "model.add(keras.layers.Dense(8))\n",
    "model.add(keras.layers.Activation('softmax'))\n",
    "\n",
    "# Compile your model\n",
    "# model.compile(loss='mean_absolute_error',\n",
    "#               optimizer='sgd',\n",
    "#               metrics=['mae','mse'])\n",
    "model.compile(loss='categorical_crossentropy',\n",
    "              optimizer='adam',\n",
    "              metrics=['accuracy'])\n",
    "\n",
    "# Train your model\n",
    "model.fit(X_train, Y_train, epochs = nEpochs , batch_size = batchSize)\n"
   ]
  },
  {
   "cell_type": "code",
   "execution_count": 16,
   "metadata": {},
   "outputs": [
    {
     "name": "stdout",
     "output_type": "stream",
     "text": [
      "Model: \"sequential_2\"\n",
      "_________________________________________________________________\n",
      "Layer (type)                 Output Shape              Param #   \n",
      "=================================================================\n",
      "conv2d_6 (Conv2D)            (None, 50, 65, 4)         76        \n",
      "_________________________________________________________________\n",
      "batch_normalization_6 (Batch (None, 50, 65, 4)         16        \n",
      "_________________________________________________________________\n",
      "activation_7 (Activation)    (None, 50, 65, 4)         0         \n",
      "_________________________________________________________________\n",
      "max_pooling2d_6 (MaxPooling2 (None, 50, 16, 4)         0         \n",
      "_________________________________________________________________\n",
      "dropout_5 (Dropout)          (None, 50, 16, 4)         0         \n",
      "_________________________________________________________________\n",
      "conv2d_7 (Conv2D)            (None, 50, 16, 4)         148       \n",
      "_________________________________________________________________\n",
      "batch_normalization_7 (Batch (None, 50, 16, 4)         16        \n",
      "_________________________________________________________________\n",
      "activation_8 (Activation)    (None, 50, 16, 4)         0         \n",
      "_________________________________________________________________\n",
      "max_pooling2d_7 (MaxPooling2 (None, 50, 4, 4)          0         \n",
      "_________________________________________________________________\n",
      "dropout_6 (Dropout)          (None, 50, 4, 4)          0         \n",
      "_________________________________________________________________\n",
      "conv2d_8 (Conv2D)            (None, 50, 4, 4)          148       \n",
      "_________________________________________________________________\n",
      "batch_normalization_8 (Batch (None, 50, 4, 4)          16        \n",
      "_________________________________________________________________\n",
      "activation_9 (Activation)    (None, 50, 4, 4)          0         \n",
      "_________________________________________________________________\n",
      "max_pooling2d_8 (MaxPooling2 (None, 50, 2, 4)          0         \n",
      "_________________________________________________________________\n",
      "dropout_7 (Dropout)          (None, 50, 2, 4)          0         \n",
      "_________________________________________________________________\n",
      "flatten_1 (Flatten)          (None, 400)               0         \n",
      "_________________________________________________________________\n",
      "dense_3 (Dense)              (None, 32)                12832     \n",
      "_________________________________________________________________\n",
      "dense_4 (Dense)              (None, 16)                528       \n",
      "_________________________________________________________________\n",
      "dense_5 (Dense)              (None, 8)                 136       \n",
      "_________________________________________________________________\n",
      "activation_10 (Activation)   (None, 8)                 0         \n",
      "=================================================================\n",
      "Total params: 13,916\n",
      "Trainable params: 13,892\n",
      "Non-trainable params: 24\n",
      "_________________________________________________________________\n"
     ]
    }
   ],
   "source": [
    "model.build()\n",
    "model.summary ()"
   ]
  },
  {
   "cell_type": "code",
   "execution_count": 17,
   "metadata": {},
   "outputs": [
    {
     "name": "stdout",
     "output_type": "stream",
     "text": [
      "57/57 [==============================] - 1s 11ms/step - loss: 0.5160 - accuracy: 0.8129\n"
     ]
    },
    {
     "data": {
      "text/plain": [
       "[0.5160250067710876, 0.8129138946533203]"
      ]
     },
     "execution_count": 17,
     "metadata": {},
     "output_type": "execute_result"
    }
   ],
   "source": [
    "model.evaluate (X_validate,Y_validate)"
   ]
  },
  {
   "cell_type": "code",
   "execution_count": null,
   "metadata": {},
   "outputs": [],
   "source": [
    "Y_pred = model.predict (X_validate)\n",
    "index = 0\n",
    "plt.plot (Y_pred,'bs',Y_validate,'g^')\n",
    "plt.show()"
   ]
  },
  {
   "cell_type": "code",
   "execution_count": null,
   "metadata": {},
   "outputs": [],
   "source": [
    "model.evaluate (X_train,Y_train)"
   ]
  },
  {
   "cell_type": "code",
   "execution_count": null,
   "metadata": {},
   "outputs": [],
   "source": [
    "Y_pred = model.predict (X_train)\n",
    "index = 0\n",
    "plt.plot (Y_pred,'bs',Y_train,'g^')\n",
    "plt.show()"
   ]
  },
  {
   "cell_type": "code",
   "execution_count": 18,
   "metadata": {},
   "outputs": [],
   "source": [
    "model.save ('classificationSmallTimeWithoutGRU.h5')"
   ]
  },
  {
   "cell_type": "code",
   "execution_count": null,
   "metadata": {},
   "outputs": [],
   "source": [
    "model = models.load_model('classificationSmallTimeWithoutGRU.h5')"
   ]
  },
  {
   "cell_type": "code",
   "execution_count": 12,
   "metadata": {},
   "outputs": [
    {
     "ename": "SyntaxError",
     "evalue": "invalid syntax (<ipython-input-12-cb235b7b1295>, line 1)",
     "output_type": "error",
     "traceback": [
      "\u001b[1;36m  File \u001b[1;32m\"<ipython-input-12-cb235b7b1295>\"\u001b[1;36m, line \u001b[1;32m1\u001b[0m\n\u001b[1;33m    print( 0:4:257 )\u001b[0m\n\u001b[1;37m            ^\u001b[0m\n\u001b[1;31mSyntaxError\u001b[0m\u001b[1;31m:\u001b[0m invalid syntax\n"
     ]
    }
   ],
   "source": []
  },
  {
   "cell_type": "code",
   "execution_count": null,
   "metadata": {},
   "outputs": [],
   "source": []
  }
 ],
 "metadata": {
  "kernelspec": {
   "display_name": "Python 3",
   "language": "python",
   "name": "python3"
  },
  "language_info": {
   "codemirror_mode": {
    "name": "ipython",
    "version": 3
   },
   "file_extension": ".py",
   "mimetype": "text/x-python",
   "name": "python",
   "nbconvert_exporter": "python",
   "pygments_lexer": "ipython3",
   "version": "3.6.8"
  }
 },
 "nbformat": 4,
 "nbformat_minor": 2
}
