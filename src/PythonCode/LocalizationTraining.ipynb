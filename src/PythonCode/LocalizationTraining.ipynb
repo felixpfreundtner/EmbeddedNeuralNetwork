{
 "cells": [
  {
   "cell_type": "code",
   "execution_count": 1,
   "metadata": {},
   "outputs": [
    {
     "name": "stderr",
     "output_type": "stream",
     "text": [
      "Using TensorFlow backend.\n"
     ]
    }
   ],
   "source": [
    "# Import the necessary packages\n",
    "import os\n",
    "import numpy as np\n",
    "import numpy.matlib\n",
    "import math\n",
    "from itertools import *\n",
    "import more_itertools\n",
    "from scipy import signal\n",
    "from scipy.fftpack import fftshift\n",
    "from scipy.io import wavfile\n",
    "import matplotlib.pyplot as plt\n",
    "import pyfftw\n",
    "import simplespectral\n",
    " \n",
    "from sklearn.model_selection import train_test_split\n",
    "import tensorflow.keras as keras\n",
    "from keras import layers, models\n",
    "from keras import utils\n",
    "from keras.layers import Dense, Dropout, Activation, Flatten, Conv2D, MaxPooling2D,BatchNormalization,GRU,Bidirectional,Reshape\n",
    "\n"
   ]
  },
  {
   "cell_type": "code",
   "execution_count": 41,
   "metadata": {},
   "outputs": [],
   "source": [
    "# parameters\n",
    "user = \"Felix\"\n",
    "fs = 16000;\n",
    "filesN = 1132;\n",
    "angleN = 8;\n",
    "micN= 2;\n",
    "windowIncrease = 0.1 #in sec\n",
    "windowSize = 5 #in sec\n",
    "filterOrder = 10\n",
    "filterBand = [200,5000] #in Hertz\n",
    "fftWindowN = 257 # singlesided\n",
    "featureType = \"magnitude\"\n",
    "speakerType = [\"cmu_us_slt_arctic\", \"cmu_us_bdl_arctic\"]#, \"cmu_us_bdl_arctic\", \"cmu_us_clb_arctic\", \"cmu_us_jmk_arctic\"] # \"cmu_us_awb_arctic\", \"cmu_us_bdl_arctic\", \"cmu_us_jmk_arctic\", \"cmu_us_ksp_arctic\", \"cmu_us_rms_arctic\", \"cmu_us_slt_arctic\", \"cmu_us_clb_arctic\"\n",
    "speakerTypeN = len(speakerType)\n",
    "if user == \"Felix\":\n",
    "    folderPath = \"./../../../../Shared/SoundLocalization/speech_database/\" + str(math.ceil(fs/1000)) + \"khz\" + \"/\"\n",
    "else:\n",
    "    folderPath = \"./../Polybox/SoundLocalization/speech_database/\" + str(math.ceil(fs/1000)) + \"khz\"\n",
    "#audioCh1Data = np.ndarray([0,windowSize*fs])\n",
    "#audioCh2Data = np.ndarray([0,windowSize*fs])\n",
    "readBatchOn = True;\n",
    "filterOn = False;"
   ]
  },
  {
   "cell_type": "code",
   "execution_count": 42,
   "metadata": {},
   "outputs": [
    {
     "name": "stdout",
     "output_type": "stream",
     "text": [
      "read data file\n",
      "finish load data file\n",
      "(1031034656, 2)\n",
      "(1132, 8, 443, 257, 2)\n",
      "data reshaped\n",
      "(2, 1132, 8, 443, 257, 2)\n",
      "read data file\n",
      "finish load data file\n",
      "(1031034656, 2)\n",
      "(1132, 8, 443, 257, 2)\n",
      "data reshaped\n",
      "(2, 1132, 8, 443, 257, 2)\n",
      "finished all data files' load\n"
     ]
    }
   ],
   "source": [
    "# read in data\n",
    "\n",
    "# init\n",
    "audioCh1Data = []\n",
    "audioCh2Data = []\n",
    "Y = []\n",
    "count = 0\n",
    "folderN = len(speakerType)\n",
    "if fs == 16000:\n",
    "    if featureType == \"raw\":\n",
    "        samplesN = 113599;\n",
    "        data = np.zeros((samplesN, angleN, filesN, micN, speakerTypeN), dtype = np.int16)\n",
    "    if featureType == \"magnitude\":\n",
    "        samplesN = 113851;\n",
    "        fftWindowT = int(samplesN / fftWindowN);\n",
    "        data = np.zeros((speakerTypeN,filesN, angleN, fftWindowT, fftWindowN, micN), dtype = np.int16) # fftWindowN, fftWindowT, angleN, filesN, speakerTypeN, micN\n",
    "\n",
    "# read data\n",
    "for folder_i in range(speakerTypeN):\n",
    "    if readBatchOn:\n",
    "\n",
    "        # read data file\n",
    "        print (\"read data file\")\n",
    "        fs, data_i = wavfile.read(folderPath + \"/\" + speakerType[folder_i] + \"_\" + featureType + \".wav\")\n",
    "        print (\"finish load data file\")\n",
    "        print (np.shape(data_i))\n",
    "        \n",
    "        # \n",
    "        if filterOn:\n",
    "            sos = signal.butter(filterOrder, filterBand, 'bp', fs=fs, output='sos')\n",
    "            data_i[:,0] = signal.sosfilt(sos, data_i[:,0])\n",
    "            data_i[:,1] = signal.sosfilt(sos, data_i[:,1])\n",
    "            \n",
    "        # reshape into invidual databases\n",
    "        if featureType == \"raw\":\n",
    "            data_i = np.reshape(data_i, (samplesN, angleN, filesN, micN))\n",
    "        if featureType == \"magnitude\":            \n",
    "            data_i = np.reshape(data_i, (filesN, angleN, fftWindowT, fftWindowN, micN))\n",
    "            print (np.shape(data_i))\n",
    "            \n",
    "        # merge into one database\n",
    "        data[folder_i,:,:,:,:,:] = data_i\n",
    "        \n",
    "        print(\"data reshaped\")\n",
    "        print(np.shape(data))\n",
    "        \n",
    "    else:\n",
    "        for i in os.listdir(folderPath + folder):           # iteration over all single data files\n",
    "            \n",
    "            # get meta data\n",
    "            deg = int(i[i.rfind(\"_\")+1:i.find(\"degree\")])/180*math.pi # read angle\n",
    "            dist = 1 # read distance\n",
    "            number = int(i[i.rfind(\"arctic\")+7:i.find(str(math.ceil(fs/1000)) + \"k\")-1]) # read file number\n",
    "            \n",
    "            # read data file\n",
    "            tempData = data\n",
    "            audioCh1 = data[:,0]\n",
    "            audioCh2 = data[:,1]\n",
    "            \n",
    "            # filter\n",
    "            if filterOn:\n",
    "                sos = signal.butter(filterOrder, filterBand, 'bp', fs=fs, output='sos')\n",
    "                audioCh1 = signal.sosfilt(sos, audioCh1)\n",
    "                audioCh2 = signal.sosfilt(sos, audioCh2)\n",
    "        \n",
    "            # window (rectangular)\n",
    "            tempData = list(more_itertools.windowed(audioCh1, n=int(windowSize*fs), step=int(windowIncrease*fs)))\n",
    "            tempData.pop()\n",
    "            audioCh1Data.extend(tempData)\n",
    "        \n",
    "            tempData = list(more_itertools.windowed(audioCh2, n=int(windowSize*fs), step=int(windowIncrease*fs)))\n",
    "            tempData.pop()\n",
    "            audioCh2Data.extend(tempData)\n",
    "        \n",
    "            # resphape into one array\n",
    "            dataSize = (np.shape(tempData))[0]\n",
    "            Y.extend(list(np.repeat([dist,deg],dataSize))) \n",
    "        \n",
    "            # log\n",
    "            print (i)\n",
    "            \n",
    "print (\"finished all data files' load\")"
   ]
  },
  {
   "cell_type": "code",
   "execution_count": 43,
   "metadata": {},
   "outputs": [
    {
     "name": "stdout",
     "output_type": "stream",
     "text": [
      "(2, 1132, 8, 257, 443, 2)\n",
      "(18112, 1)\n",
      "(18112, 443, 257, 2)\n"
     ]
    },
    {
     "data": {
      "image/png": "[encoded data removed]",
      "text/plain": [
       "<Figure size 864x576 with 2 Axes>"
      ]
     },
     "metadata": {
      "needs_background": "light"
     },
     "output_type": "display_data"
    }
   ],
   "source": [
    "# calculate features\n",
    "                        # speaker, file number, angle, time bins, frequency bins, channel\n",
    "data = np.moveaxis (data,[0,1,2,3,4,5],[0,1,2,4,3,5])\n",
    "# show dimensions\n",
    "print (np.shape(data)) # speaker, file number, angle, frequency bins, time bins, channel\n",
    "\n",
    "# visualize features\n",
    "plt.figure(figsize=(12, 8))\n",
    "plt.subplot (221)\n",
    "t = np.linspace(1,fftWindowT, fftWindowT)\n",
    "f = np.linspace(1,fftWindowN, fftWindowN)\n",
    "plot_data = data[0,1131,0,:,:,0] # :,:,0,0,0,0\n",
    "plot_data = plot_data / np.amax(np.amax(plot_data))\n",
    "plt.pcolormesh(t, f, plot_data)\n",
    "plt.ylabel('Frequency [Hz]')\n",
    "plt.xlabel('Time [sec]')\n",
    "plt.subplot (222)\n",
    "t = np.linspace(1,fftWindowT, fftWindowT)\n",
    "f = np.linspace(1,fftWindowN, fftWindowN)\n",
    "plot_data = data[0,1131,0,:,:,1] # :,:,0,0,0,0\n",
    "plot_data = plot_data / np.amax(np.amax(plot_data))\n",
    "plt.pcolormesh(t, f, plot_data)\n",
    "plt.ylabel('Frequency [Hz]')\n",
    "plt.xlabel('Time [sec]')\n",
    "\n",
    "# prepare features for neural network\n",
    "X = np.reshape(data, (angleN * filesN * speakerTypeN, fftWindowT, fftWindowN, micN))\n",
    "\n",
    "# get meta data\n",
    "deg = np.linspace(0, 315, angleN)\n",
    "deg = np.matlib.repmat(deg, 1, filesN  * speakerTypeN).transpose()\n",
    "#dist = np.full((filesN * angleN * speakerTypeN, 1), 1)\n",
    "\n",
    "# prepare lables for neural network\n",
    "#Y = np.vstack((deg.T, dist.T)).T\n",
    "Y = deg#/360\n",
    "print (np.shape(Y)) # speaker-angle-file number, angle, distance\n",
    "print (np.shape(X)) # speaker-angle-file number, time bins, frequency bins, channel\n"
   ]
  },
  {
   "cell_type": "code",
   "execution_count": 44,
   "metadata": {},
   "outputs": [
    {
     "name": "stdout",
     "output_type": "stream",
     "text": [
      "(14489, 443, 257, 2)\n",
      "(3623, 443, 257, 2)\n",
      "(14489, 8)\n",
      "(3623, 8)\n"
     ]
    }
   ],
   "source": [
    "X_train, X_validate, Y_train, Y_validate = train_test_split(X, Y, test_size = 0.2, random_state = 2)\n",
    "\n",
    "Y_train = Y_train/45\n",
    "Y_train = utils.to_categorical (Y_train,8)\n",
    "Y_validate = Y_validate/45\n",
    "Y_validate = utils.to_categorical (Y_validate,8)\n",
    "\n",
    "print (np.shape(X_train))\n",
    "print (np.shape(X_validate))\n",
    "print (np.shape(Y_train))\n",
    "print (np.shape(Y_validate))\n",
    "\n",
    "X_train = X_train.astype('float16')\n",
    "X_validate = X_validate.astype('float16')\n",
    "Y_train = Y_train.astype('float16')\n",
    "Y_validate = Y_validate.astype('float16')"
   ]
  },
  {
   "cell_type": "code",
   "execution_count": 45,
   "metadata": {},
   "outputs": [
    {
     "name": "stdout",
     "output_type": "stream",
     "text": [
      "Epoch 1/10\n",
      "14489/14489 [==============================] - 1425s 98ms/step - loss: 0.3407 - accuracy: 0.9003\n",
      "Epoch 2/10\n",
      "14489/14489 [==============================] - 1490s 103ms/step - loss: 0.0069 - accuracy: 0.9991\n",
      "Epoch 3/10\n",
      "14489/14489 [==============================] - 1448s 100ms/step - loss: 0.0024 - accuracy: 0.9994\n",
      "Epoch 4/10\n",
      "14489/14489 [==============================] - 1413s 98ms/step - loss: 9.1920e-04 - accuracy: 1.0000\n",
      "Epoch 5/10\n",
      "14489/14489 [==============================] - 1405s 97ms/step - loss: 4.9317e-04 - accuracy: 1.0000\n",
      "Epoch 6/10\n",
      "14489/14489 [==============================] - 1412s 97ms/step - loss: 2.8443e-04 - accuracy: 1.0000\n",
      "Epoch 7/10\n",
      "14489/14489 [==============================] - 1405s 97ms/step - loss: 6.1415e-04 - accuracy: 0.9998\n",
      "Epoch 8/10\n",
      "14489/14489 [==============================] - 1413s 98ms/step - loss: 0.0012 - accuracy: 0.9997\n",
      "Epoch 9/10\n",
      "14489/14489 [==============================] - 1430s 99ms/step - loss: 6.3616e-04 - accuracy: 0.9999\n",
      "Epoch 10/10\n",
      "14489/14489 [==============================] - 1455s 100ms/step - loss: 1.2630e-04 - accuracy: 1.0000\n"
     ]
    },
    {
     "data": {
      "text/plain": [
       "<keras.callbacks.callbacks.History at 0x20d3f310be0>"
      ]
     },
     "execution_count": 45,
     "metadata": {},
     "output_type": "execute_result"
    }
   ],
   "source": [
    "# Define batchsize and number of epochs\n",
    "batchSize = 50\n",
    "nEpochs = 10\n",
    "\n",
    "\n",
    "# Declare the sequential model and design your multi-layer perceptron\n",
    "model = models.Sequential()\n",
    "\n",
    "model.add(Conv2D(16, (3, 3), padding='same',\n",
    "                 input_shape=X_train.shape[1:]))\n",
    "model.add(BatchNormalization())\n",
    "model.add(Activation('relu'))\n",
    "model.add(MaxPooling2D(pool_size=(1,8)))\n",
    "model.add(Dropout(0.2))\n",
    "\n",
    "model.add(Conv2D(16, (3, 3), padding='same'))\n",
    "model.add(BatchNormalization())\n",
    "model.add(Activation('relu'))\n",
    "model.add(MaxPooling2D(pool_size=(1,8)))\n",
    "model.add(Dropout(0.2))\n",
    "\n",
    "model.add(Conv2D(16, (3, 3), padding='same'))\n",
    "model.add(BatchNormalization())\n",
    "model.add(Activation('relu'))\n",
    "model.add(MaxPooling2D(pool_size=(1,4)))\n",
    "model.add(Dropout(0.2))\n",
    "\n",
    "# model.add(Conv2D(64, (3, 3), padding='same'))\n",
    "# model.add(Activation('relu'))\n",
    "# model.add(BatchNormalization())\n",
    "# model.add(MaxPooling2D(pool_size=(2, 2)))\n",
    "\n",
    "# model.add(Conv2D(128, (3, 3), padding='same'))\n",
    "# model.add(Activation('relu'))\n",
    "# model.add(BatchNormalization())\n",
    "# model.add(MaxPooling2D(pool_size=(2, 2)))\n",
    "\n",
    "model.add(Reshape((16,443)))\n",
    "model.add(Bidirectional(GRU(4,activation='tanh',return_sequences=True),merge_mode='mul'))\n",
    "\n",
    "#model.add(Bidirectional(GRU(64)))\n",
    "\n",
    "model.add(Flatten())\n",
    "model.add(Dense(64))\n",
    "model.add(Activation('linear'))\n",
    "model.add(Dense(32))\n",
    "model.add(Activation('linear'))\n",
    "model.add(Dense(8))\n",
    "model.add(Activation('softmax'))\n",
    "\n",
    "# Compile your model\n",
    "# model.compile(loss='mean_absolute_error',\n",
    "#               optimizer='sgd',\n",
    "#               metrics=['mae','mse'])\n",
    "model.compile(loss='categorical_crossentropy',\n",
    "              optimizer='adam',\n",
    "              metrics=['accuracy'])\n",
    "\n",
    "# Train your model\n",
    "model.fit(X_train, Y_train, epochs = nEpochs , batch_size = batchSize)\n"
   ]
  },
  {
   "cell_type": "code",
   "execution_count": 7,
   "metadata": {},
   "outputs": [
    {
     "name": "stdout",
     "output_type": "stream",
     "text": [
      "Model: \"sequential_2\"\n",
      "_________________________________________________________________\n",
      "Layer (type)                 Output Shape              Param #   \n",
      "=================================================================\n",
      "conv2d_4 (Conv2D)            (None, 443, 257, 16)      304       \n",
      "_________________________________________________________________\n",
      "batch_normalization_4 (Batch (None, 443, 257, 16)      64        \n",
      "_________________________________________________________________\n",
      "activation_4 (Activation)    (None, 443, 257, 16)      0         \n",
      "_________________________________________________________________\n",
      "max_pooling2d_4 (MaxPooling2 (None, 443, 32, 16)       0         \n",
      "_________________________________________________________________\n",
      "dropout_4 (Dropout)          (None, 443, 32, 16)       0         \n",
      "_________________________________________________________________\n",
      "conv2d_5 (Conv2D)            (None, 443, 32, 16)       2320      \n",
      "_________________________________________________________________\n",
      "batch_normalization_5 (Batch (None, 443, 32, 16)       64        \n",
      "_________________________________________________________________\n",
      "activation_5 (Activation)    (None, 443, 32, 16)       0         \n",
      "_________________________________________________________________\n",
      "max_pooling2d_5 (MaxPooling2 (None, 443, 4, 16)        0         \n",
      "_________________________________________________________________\n",
      "dropout_5 (Dropout)          (None, 443, 4, 16)        0         \n",
      "_________________________________________________________________\n",
      "conv2d_6 (Conv2D)            (None, 443, 4, 16)        2320      \n",
      "_________________________________________________________________\n",
      "batch_normalization_6 (Batch (None, 443, 4, 16)        64        \n",
      "_________________________________________________________________\n",
      "activation_6 (Activation)    (None, 443, 4, 16)        0         \n",
      "_________________________________________________________________\n",
      "max_pooling2d_6 (MaxPooling2 (None, 443, 1, 16)        0         \n",
      "_________________________________________________________________\n",
      "dropout_6 (Dropout)          (None, 443, 1, 16)        0         \n",
      "_________________________________________________________________\n",
      "reshape_2 (Reshape)          (None, 16, 443)           0         \n",
      "_________________________________________________________________\n",
      "bidirectional_1 (Bidirection (None, 16, 4)             10752     \n",
      "_________________________________________________________________\n",
      "flatten_1 (Flatten)          (None, 64)                0         \n",
      "_________________________________________________________________\n",
      "dense_1 (Dense)              (None, 64)                4160      \n",
      "_________________________________________________________________\n",
      "activation_7 (Activation)    (None, 64)                0         \n",
      "_________________________________________________________________\n",
      "dense_2 (Dense)              (None, 32)                2080      \n",
      "_________________________________________________________________\n",
      "activation_8 (Activation)    (None, 32)                0         \n",
      "_________________________________________________________________\n",
      "dense_3 (Dense)              (None, 8)                 264       \n",
      "_________________________________________________________________\n",
      "activation_9 (Activation)    (None, 8)                 0         \n",
      "=================================================================\n",
      "Total params: 22,392\n",
      "Trainable params: 22,296\n",
      "Non-trainable params: 96\n",
      "_________________________________________________________________\n"
     ]
    }
   ],
   "source": [
    "model.build()\n",
    "model.summary ()"
   ]
  },
  {
   "cell_type": "code",
   "execution_count": 40,
   "metadata": {},
   "outputs": [
    {
     "name": "stdout",
     "output_type": "stream",
     "text": [
      "1812/1812 [==============================] - 65s 36ms/step\n"
     ]
    },
    {
     "data": {
      "text/plain": [
       "[0.02235900830872209, 0.9917218685150146]"
      ]
     },
     "execution_count": 40,
     "metadata": {},
     "output_type": "execute_result"
    }
   ],
   "source": [
    "# Y_validateChange = np.zeros (np.shape(Y_validate),dtype=np.float16)\n",
    "# for i in range(len(Y_validate)):\n",
    "#     if (Y_validate[i] == 0):\n",
    "#         Y_validateChange[i] = -60\n",
    "#     if (Y_validate[i] == 45):\n",
    "#         Y_validateChange[i] = 5\n",
    "#     if (Y_validate[i] == 90):\n",
    "#         Y_validateChange[i] = 80\n",
    "#     if (Y_validate[i] == 135):\n",
    "#         Y_validateChange[i] = 155\n",
    "#     if (Y_validate[i] == 180):\n",
    "#         Y_validateChange[i] = 215\n",
    "#     if (Y_validate[i] == 225):\n",
    "#         Y_validateChange[i] = 290\n",
    "#     if (Y_validate[i] == 270):\n",
    "#         Y_validateChange[i] = 335\n",
    "#     if (Y_validate[i] == 315):\n",
    "#         Y_validateChange[i] = 420\n",
    "model.evaluate (X_validate,Y_validate)"
   ]
  },
  {
   "cell_type": "code",
   "execution_count": 26,
   "metadata": {},
   "outputs": [
    {
     "data": {
      "image/png": "[encoded data removed]",
      "text/plain": [
       "<Figure size 432x288 with 1 Axes>"
      ]
     },
     "metadata": {
      "needs_background": "light"
     },
     "output_type": "display_data"
    }
   ],
   "source": [
    "Y_pred = model.predict (X_validate)\n",
    "index = 0\n",
    "plt.plot (Y_pred,'bs',Y_validate,'g^')\n",
    "plt.show()"
   ]
  },
  {
   "cell_type": "code",
   "execution_count": null,
   "metadata": {},
   "outputs": [
    {
     "name": "stdout",
     "output_type": "stream",
     "text": [
      "7136/7244 [============================>.] - ETA: 2s"
     ]
    }
   ],
   "source": [
    "# Y_trainChange = np.zeros (np.shape(Y_train),dtype=np.float16)\n",
    "# for i in range(len(Y_train)):\n",
    "#     if (Y_train[i] == 0):\n",
    "#         Y_trainChange[i] = -60\n",
    "#     if (Y_train[i] == 45):\n",
    "#         Y_trainChange[i] = 5\n",
    "#     if (Y_train[i] == 90):\n",
    "#         Y_trainChange[i] = 80\n",
    "#     if (Y_train[i] == 135):\n",
    "#         Y_trainChange[i] = 155\n",
    "#     if (Y_train[i] == 180):\n",
    "#         Y_trainChange[i] = 215\n",
    "#     if (Y_train[i] == 225):\n",
    "#         Y_trainChange[i] = 290\n",
    "#     if (Y_train[i] == 270):\n",
    "#         Y_trainChange[i] = 335\n",
    "#     if (Y_train[i] == 315):\n",
    "#         Y_trainChange[i] = 420\n",
    "model.evaluate (X_train,Y_train)"
   ]
  },
  {
   "cell_type": "code",
   "execution_count": 14,
   "metadata": {},
   "outputs": [
    {
     "ename": "KeyboardInterrupt",
     "evalue": "",
     "output_type": "error",
     "traceback": [
      "\u001b[1;31m---------------------------------------------------------------------------\u001b[0m",
      "\u001b[1;31mKeyboardInterrupt\u001b[0m                         Traceback (most recent call last)",
      "\u001b[1;32m<ipython-input-14-3881bad91949>\u001b[0m in \u001b[0;36m<module>\u001b[1;34m\u001b[0m\n\u001b[1;32m----> 1\u001b[1;33m \u001b[0mY_pred\u001b[0m \u001b[1;33m=\u001b[0m \u001b[0mmodel\u001b[0m\u001b[1;33m.\u001b[0m\u001b[0mpredict\u001b[0m \u001b[1;33m(\u001b[0m\u001b[0mX_train\u001b[0m\u001b[1;33m)\u001b[0m\u001b[1;33m\u001b[0m\u001b[1;33m\u001b[0m\u001b[0m\n\u001b[0m\u001b[0;32m      2\u001b[0m \u001b[0mindex\u001b[0m \u001b[1;33m=\u001b[0m \u001b[1;36m0\u001b[0m\u001b[1;33m\u001b[0m\u001b[1;33m\u001b[0m\u001b[0m\n\u001b[0;32m      3\u001b[0m \u001b[0mplt\u001b[0m\u001b[1;33m.\u001b[0m\u001b[0mplot\u001b[0m \u001b[1;33m(\u001b[0m\u001b[0mY_pred\u001b[0m\u001b[1;33m,\u001b[0m\u001b[1;34m'bs'\u001b[0m\u001b[1;33m,\u001b[0m\u001b[0mY_train\u001b[0m\u001b[1;33m,\u001b[0m\u001b[1;34m'g^'\u001b[0m\u001b[1;33m)\u001b[0m\u001b[1;33m\u001b[0m\u001b[1;33m\u001b[0m\u001b[0m\n\u001b[0;32m      4\u001b[0m \u001b[0mplt\u001b[0m\u001b[1;33m.\u001b[0m\u001b[0mshow\u001b[0m\u001b[1;33m(\u001b[0m\u001b[1;33m)\u001b[0m\u001b[1;33m\u001b[0m\u001b[1;33m\u001b[0m\u001b[0m\n",
      "\u001b[1;32mC:\\ProgramData\\Miniconda3\\lib\\site-packages\\keras\\engine\\training.py\u001b[0m in \u001b[0;36mpredict\u001b[1;34m(self, x, batch_size, verbose, steps, callbacks, max_queue_size, workers, use_multiprocessing)\u001b[0m\n\u001b[0;32m   1460\u001b[0m                                             \u001b[0mverbose\u001b[0m\u001b[1;33m=\u001b[0m\u001b[0mverbose\u001b[0m\u001b[1;33m,\u001b[0m\u001b[1;33m\u001b[0m\u001b[1;33m\u001b[0m\u001b[0m\n\u001b[0;32m   1461\u001b[0m                                             \u001b[0msteps\u001b[0m\u001b[1;33m=\u001b[0m\u001b[0msteps\u001b[0m\u001b[1;33m,\u001b[0m\u001b[1;33m\u001b[0m\u001b[1;33m\u001b[0m\u001b[0m\n\u001b[1;32m-> 1462\u001b[1;33m                                             callbacks=callbacks)\n\u001b[0m\u001b[0;32m   1463\u001b[0m \u001b[1;33m\u001b[0m\u001b[0m\n\u001b[0;32m   1464\u001b[0m     def train_on_batch(self, x, y,\n",
      "\u001b[1;32mC:\\ProgramData\\Miniconda3\\lib\\site-packages\\keras\\engine\\training_arrays.py\u001b[0m in \u001b[0;36mpredict_loop\u001b[1;34m(model, f, ins, batch_size, verbose, steps, callbacks)\u001b[0m\n\u001b[0;32m    322\u001b[0m             \u001b[0mbatch_logs\u001b[0m \u001b[1;33m=\u001b[0m \u001b[1;33m{\u001b[0m\u001b[1;34m'batch'\u001b[0m\u001b[1;33m:\u001b[0m \u001b[0mbatch_index\u001b[0m\u001b[1;33m,\u001b[0m \u001b[1;34m'size'\u001b[0m\u001b[1;33m:\u001b[0m \u001b[0mlen\u001b[0m\u001b[1;33m(\u001b[0m\u001b[0mbatch_ids\u001b[0m\u001b[1;33m)\u001b[0m\u001b[1;33m}\u001b[0m\u001b[1;33m\u001b[0m\u001b[1;33m\u001b[0m\u001b[0m\n\u001b[0;32m    323\u001b[0m             \u001b[0mcallbacks\u001b[0m\u001b[1;33m.\u001b[0m\u001b[0m_call_batch_hook\u001b[0m\u001b[1;33m(\u001b[0m\u001b[1;34m'predict'\u001b[0m\u001b[1;33m,\u001b[0m \u001b[1;34m'begin'\u001b[0m\u001b[1;33m,\u001b[0m \u001b[0mbatch_index\u001b[0m\u001b[1;33m,\u001b[0m \u001b[0mbatch_logs\u001b[0m\u001b[1;33m)\u001b[0m\u001b[1;33m\u001b[0m\u001b[1;33m\u001b[0m\u001b[0m\n\u001b[1;32m--> 324\u001b[1;33m             \u001b[0mbatch_outs\u001b[0m \u001b[1;33m=\u001b[0m \u001b[0mf\u001b[0m\u001b[1;33m(\u001b[0m\u001b[0mins_batch\u001b[0m\u001b[1;33m)\u001b[0m\u001b[1;33m\u001b[0m\u001b[1;33m\u001b[0m\u001b[0m\n\u001b[0m\u001b[0;32m    325\u001b[0m             \u001b[0mbatch_outs\u001b[0m \u001b[1;33m=\u001b[0m \u001b[0mto_list\u001b[0m\u001b[1;33m(\u001b[0m\u001b[0mbatch_outs\u001b[0m\u001b[1;33m)\u001b[0m\u001b[1;33m\u001b[0m\u001b[1;33m\u001b[0m\u001b[0m\n\u001b[0;32m    326\u001b[0m             \u001b[1;32mif\u001b[0m \u001b[0mbatch_index\u001b[0m \u001b[1;33m==\u001b[0m \u001b[1;36m0\u001b[0m\u001b[1;33m:\u001b[0m\u001b[1;33m\u001b[0m\u001b[1;33m\u001b[0m\u001b[0m\n",
      "\u001b[1;32mC:\\ProgramData\\Miniconda3\\lib\\site-packages\\tensorflow_core\\python\\keras\\backend.py\u001b[0m in \u001b[0;36m__call__\u001b[1;34m(self, inputs)\u001b[0m\n\u001b[0;32m   3725\u001b[0m         \u001b[0mvalue\u001b[0m \u001b[1;33m=\u001b[0m \u001b[0mmath_ops\u001b[0m\u001b[1;33m.\u001b[0m\u001b[0mcast\u001b[0m\u001b[1;33m(\u001b[0m\u001b[0mvalue\u001b[0m\u001b[1;33m,\u001b[0m \u001b[0mtensor\u001b[0m\u001b[1;33m.\u001b[0m\u001b[0mdtype\u001b[0m\u001b[1;33m)\u001b[0m\u001b[1;33m\u001b[0m\u001b[1;33m\u001b[0m\u001b[0m\n\u001b[0;32m   3726\u001b[0m       \u001b[0mconverted_inputs\u001b[0m\u001b[1;33m.\u001b[0m\u001b[0mappend\u001b[0m\u001b[1;33m(\u001b[0m\u001b[0mvalue\u001b[0m\u001b[1;33m)\u001b[0m\u001b[1;33m\u001b[0m\u001b[1;33m\u001b[0m\u001b[0m\n\u001b[1;32m-> 3727\u001b[1;33m     \u001b[0moutputs\u001b[0m \u001b[1;33m=\u001b[0m \u001b[0mself\u001b[0m\u001b[1;33m.\u001b[0m\u001b[0m_graph_fn\u001b[0m\u001b[1;33m(\u001b[0m\u001b[1;33m*\u001b[0m\u001b[0mconverted_inputs\u001b[0m\u001b[1;33m)\u001b[0m\u001b[1;33m\u001b[0m\u001b[1;33m\u001b[0m\u001b[0m\n\u001b[0m\u001b[0;32m   3728\u001b[0m \u001b[1;33m\u001b[0m\u001b[0m\n\u001b[0;32m   3729\u001b[0m     \u001b[1;31m# EagerTensor.numpy() will often make a copy to ensure memory safety.\u001b[0m\u001b[1;33m\u001b[0m\u001b[1;33m\u001b[0m\u001b[1;33m\u001b[0m\u001b[0m\n",
      "\u001b[1;32mC:\\ProgramData\\Miniconda3\\lib\\site-packages\\tensorflow_core\\python\\eager\\function.py\u001b[0m in \u001b[0;36m__call__\u001b[1;34m(self, *args, **kwargs)\u001b[0m\n\u001b[0;32m   1549\u001b[0m       \u001b[0mTypeError\u001b[0m\u001b[1;33m:\u001b[0m \u001b[0mFor\u001b[0m \u001b[0minvalid\u001b[0m \u001b[0mpositional\u001b[0m\u001b[1;33m/\u001b[0m\u001b[0mkeyword\u001b[0m \u001b[0margument\u001b[0m \u001b[0mcombinations\u001b[0m\u001b[1;33m.\u001b[0m\u001b[1;33m\u001b[0m\u001b[1;33m\u001b[0m\u001b[0m\n\u001b[0;32m   1550\u001b[0m     \"\"\"\n\u001b[1;32m-> 1551\u001b[1;33m     \u001b[1;32mreturn\u001b[0m \u001b[0mself\u001b[0m\u001b[1;33m.\u001b[0m\u001b[0m_call_impl\u001b[0m\u001b[1;33m(\u001b[0m\u001b[0margs\u001b[0m\u001b[1;33m,\u001b[0m \u001b[0mkwargs\u001b[0m\u001b[1;33m)\u001b[0m\u001b[1;33m\u001b[0m\u001b[1;33m\u001b[0m\u001b[0m\n\u001b[0m\u001b[0;32m   1552\u001b[0m \u001b[1;33m\u001b[0m\u001b[0m\n\u001b[0;32m   1553\u001b[0m   \u001b[1;32mdef\u001b[0m \u001b[0m_call_impl\u001b[0m\u001b[1;33m(\u001b[0m\u001b[0mself\u001b[0m\u001b[1;33m,\u001b[0m \u001b[0margs\u001b[0m\u001b[1;33m,\u001b[0m \u001b[0mkwargs\u001b[0m\u001b[1;33m,\u001b[0m \u001b[0mcancellation_manager\u001b[0m\u001b[1;33m=\u001b[0m\u001b[1;32mNone\u001b[0m\u001b[1;33m)\u001b[0m\u001b[1;33m:\u001b[0m\u001b[1;33m\u001b[0m\u001b[1;33m\u001b[0m\u001b[0m\n",
      "\u001b[1;32mC:\\ProgramData\\Miniconda3\\lib\\site-packages\\tensorflow_core\\python\\eager\\function.py\u001b[0m in \u001b[0;36m_call_impl\u001b[1;34m(self, args, kwargs, cancellation_manager)\u001b[0m\n\u001b[0;32m   1589\u001b[0m       raise TypeError(\"Keyword arguments {} unknown. Expected {}.\".format(\n\u001b[0;32m   1590\u001b[0m           list(kwargs.keys()), list(self._arg_keywords)))\n\u001b[1;32m-> 1591\u001b[1;33m     \u001b[1;32mreturn\u001b[0m \u001b[0mself\u001b[0m\u001b[1;33m.\u001b[0m\u001b[0m_call_flat\u001b[0m\u001b[1;33m(\u001b[0m\u001b[0margs\u001b[0m\u001b[1;33m,\u001b[0m \u001b[0mself\u001b[0m\u001b[1;33m.\u001b[0m\u001b[0mcaptured_inputs\u001b[0m\u001b[1;33m,\u001b[0m \u001b[0mcancellation_manager\u001b[0m\u001b[1;33m)\u001b[0m\u001b[1;33m\u001b[0m\u001b[1;33m\u001b[0m\u001b[0m\n\u001b[0m\u001b[0;32m   1592\u001b[0m \u001b[1;33m\u001b[0m\u001b[0m\n\u001b[0;32m   1593\u001b[0m   \u001b[1;32mdef\u001b[0m \u001b[0m_filtered_call\u001b[0m\u001b[1;33m(\u001b[0m\u001b[0mself\u001b[0m\u001b[1;33m,\u001b[0m \u001b[0margs\u001b[0m\u001b[1;33m,\u001b[0m \u001b[0mkwargs\u001b[0m\u001b[1;33m)\u001b[0m\u001b[1;33m:\u001b[0m\u001b[1;33m\u001b[0m\u001b[1;33m\u001b[0m\u001b[0m\n",
      "\u001b[1;32mC:\\ProgramData\\Miniconda3\\lib\\site-packages\\tensorflow_core\\python\\eager\\function.py\u001b[0m in \u001b[0;36m_call_flat\u001b[1;34m(self, args, captured_inputs, cancellation_manager)\u001b[0m\n\u001b[0;32m   1690\u001b[0m       \u001b[1;31m# No tape is watching; skip to running the function.\u001b[0m\u001b[1;33m\u001b[0m\u001b[1;33m\u001b[0m\u001b[1;33m\u001b[0m\u001b[0m\n\u001b[0;32m   1691\u001b[0m       return self._build_call_outputs(self._inference_function.call(\n\u001b[1;32m-> 1692\u001b[1;33m           ctx, args, cancellation_manager=cancellation_manager))\n\u001b[0m\u001b[0;32m   1693\u001b[0m     forward_backward = self._select_forward_and_backward_functions(\n\u001b[0;32m   1694\u001b[0m         \u001b[0margs\u001b[0m\u001b[1;33m,\u001b[0m\u001b[1;33m\u001b[0m\u001b[1;33m\u001b[0m\u001b[0m\n",
      "\u001b[1;32mC:\\ProgramData\\Miniconda3\\lib\\site-packages\\tensorflow_core\\python\\eager\\function.py\u001b[0m in \u001b[0;36mcall\u001b[1;34m(self, ctx, args, cancellation_manager)\u001b[0m\n\u001b[0;32m    543\u001b[0m               \u001b[0minputs\u001b[0m\u001b[1;33m=\u001b[0m\u001b[0margs\u001b[0m\u001b[1;33m,\u001b[0m\u001b[1;33m\u001b[0m\u001b[1;33m\u001b[0m\u001b[0m\n\u001b[0;32m    544\u001b[0m               \u001b[0mattrs\u001b[0m\u001b[1;33m=\u001b[0m\u001b[1;33m(\u001b[0m\u001b[1;34m\"executor_type\"\u001b[0m\u001b[1;33m,\u001b[0m \u001b[0mexecutor_type\u001b[0m\u001b[1;33m,\u001b[0m \u001b[1;34m\"config_proto\"\u001b[0m\u001b[1;33m,\u001b[0m \u001b[0mconfig\u001b[0m\u001b[1;33m)\u001b[0m\u001b[1;33m,\u001b[0m\u001b[1;33m\u001b[0m\u001b[1;33m\u001b[0m\u001b[0m\n\u001b[1;32m--> 545\u001b[1;33m               ctx=ctx)\n\u001b[0m\u001b[0;32m    546\u001b[0m         \u001b[1;32melse\u001b[0m\u001b[1;33m:\u001b[0m\u001b[1;33m\u001b[0m\u001b[1;33m\u001b[0m\u001b[0m\n\u001b[0;32m    547\u001b[0m           outputs = execute.execute_with_cancellation(\n",
      "\u001b[1;32mC:\\ProgramData\\Miniconda3\\lib\\site-packages\\tensorflow_core\\python\\eager\\execute.py\u001b[0m in \u001b[0;36mquick_execute\u001b[1;34m(op_name, num_outputs, inputs, attrs, ctx, name)\u001b[0m\n\u001b[0;32m     59\u001b[0m     tensors = pywrap_tensorflow.TFE_Py_Execute(ctx._handle, device_name,\n\u001b[0;32m     60\u001b[0m                                                \u001b[0mop_name\u001b[0m\u001b[1;33m,\u001b[0m \u001b[0minputs\u001b[0m\u001b[1;33m,\u001b[0m \u001b[0mattrs\u001b[0m\u001b[1;33m,\u001b[0m\u001b[1;33m\u001b[0m\u001b[1;33m\u001b[0m\u001b[0m\n\u001b[1;32m---> 61\u001b[1;33m                                                num_outputs)\n\u001b[0m\u001b[0;32m     62\u001b[0m   \u001b[1;32mexcept\u001b[0m \u001b[0mcore\u001b[0m\u001b[1;33m.\u001b[0m\u001b[0m_NotOkStatusException\u001b[0m \u001b[1;32mas\u001b[0m \u001b[0me\u001b[0m\u001b[1;33m:\u001b[0m\u001b[1;33m\u001b[0m\u001b[1;33m\u001b[0m\u001b[0m\n\u001b[0;32m     63\u001b[0m     \u001b[1;32mif\u001b[0m \u001b[0mname\u001b[0m \u001b[1;32mis\u001b[0m \u001b[1;32mnot\u001b[0m \u001b[1;32mNone\u001b[0m\u001b[1;33m:\u001b[0m\u001b[1;33m\u001b[0m\u001b[1;33m\u001b[0m\u001b[0m\n",
      "\u001b[1;31mKeyboardInterrupt\u001b[0m: "
     ]
    }
   ],
   "source": [
    "Y_pred = model.predict (X_train)\n",
    "index = 0\n",
    "plt.plot (Y_pred,'bs',Y_train,'g^')\n",
    "plt.show()"
   ]
  },
  {
   "cell_type": "code",
   "execution_count": null,
   "metadata": {},
   "outputs": [],
   "source": [
    "model.save ('classificationGood.h5')"
   ]
  },
  {
   "cell_type": "code",
   "execution_count": 8,
   "metadata": {},
   "outputs": [],
   "source": [
    "model = models.load_model('classificationGood.h5')"
   ]
  },
  {
   "cell_type": "code",
   "execution_count": 25,
   "metadata": {},
   "outputs": [
    {
     "name": "stdout",
     "output_type": "stream",
     "text": [
      "[[9.52361461e-06 2.12294776e-06 8.99471431e-08 ... 4.79963091e-07\n",
      "  2.32642772e-09 7.43924200e-10]\n",
      " [1.53363956e-07 9.91836369e-01 1.57791692e-06 ... 8.74420493e-07\n",
      "  1.56709601e-09 1.16242736e-04]\n",
      " [1.06670684e-03 8.44512033e-05 2.44186737e-07 ... 6.17707337e-05\n",
      "  2.57763822e-05 7.38276343e-04]\n",
      " ...\n",
      " [3.03949535e-01 7.00915689e-06 6.94054246e-01 ... 9.18498627e-05\n",
      "  5.61385771e-10 8.64338304e-04]\n",
      " [6.95498557e-07 3.07395247e-08 1.50966514e-11 ... 9.99982476e-01\n",
      "  3.81900963e-06 7.72687581e-10]\n",
      " [1.23089476e-05 2.92371114e-05 3.42395339e-08 ... 8.17237160e-05\n",
      "  1.43721991e-05 2.47974583e-07]]\n"
     ]
    }
   ],
   "source": [
    "print (Y_pred)"
   ]
  },
  {
   "cell_type": "code",
   "execution_count": 34,
   "metadata": {},
   "outputs": [
    {
     "data": {
      "text/plain": [
       "[<matplotlib.lines.Line2D at 0x21055c7ffd0>,\n",
       " <matplotlib.lines.Line2D at 0x21055c8a128>]"
      ]
     },
     "execution_count": 34,
     "metadata": {},
     "output_type": "execute_result"
    },
    {
     "data": {
      "image/png": "[encoded data removed]",
      "text/plain": [
       "<Figure size 432x288 with 1 Axes>"
      ]
     },
     "metadata": {
      "needs_background": "light"
     },
     "output_type": "display_data"
    }
   ],
   "source": [
    "plt.plot (Y_pred[0:50,2],'bs',Y_validate[0:50,2],'g^')"
   ]
  }
 ],
 "metadata": {
  "kernelspec": {
   "display_name": "Python 3",
   "language": "python",
   "name": "python3"
  },
  "language_info": {
   "codemirror_mode": {
    "name": "ipython",
    "version": 3
   },
   "file_extension": ".py",
   "mimetype": "text/x-python",
   "name": "python",
   "nbconvert_exporter": "python",
   "pygments_lexer": "ipython3",
   "version": "3.7.3"
  }
 },
 "nbformat": 4,
 "nbformat_minor": 2
}
