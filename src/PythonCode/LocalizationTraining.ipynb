{
 "cells": [
  {
   "cell_type": "code",
   "execution_count": 1,
   "metadata": {},
   "outputs": [
    {
     "name": "stderr",
     "output_type": "stream",
     "text": [
      "Using TensorFlow backend.\n"
     ]
    }
   ],
   "source": [
    "# Import the necessary packages\n",
    "import os\n",
    "import numpy as np\n",
    "import numpy.matlib\n",
    "import math\n",
    "from itertools import *\n",
    "import more_itertools\n",
    "from scipy import signal\n",
    "from scipy.fftpack import fftshift\n",
    "from scipy.io import wavfile\n",
    "import matplotlib.pyplot as plt\n",
    "import pyfftw\n",
    "import simplespectral\n",
    " \n",
    "from sklearn.model_selection import train_test_split\n",
    "import tensorflow.keras as keras\n",
    "from keras import layers, models\n",
    "from keras import utils\n",
    "from keras.layers import Dense, Dropout, Activation, Flatten, Conv2D, MaxPooling2D,BatchNormalization,GRU,Bidirectional,Reshape\n"
   ]
  },
  {
   "cell_type": "code",
   "execution_count": 73,
   "metadata": {},
   "outputs": [],
   "source": [
    "# parameters\n",
    "user = \"Felix\"\n",
    "fs = 16000;\n",
    "filesN = 1132;\n",
    "angleN = 8;\n",
    "micN= 2;\n",
    "windowIncrease = 0.1 #in sec\n",
    "windowSize = 5 #in sec\n",
    "filterOrder = 10\n",
    "filterBand = [200,5000] #in Hertz\n",
    "fftWindowN = 257 # singlesided\n",
    "featureType = \"magnitude\"\n",
    "speakerType = [\"cmu_us_awb_arctic\", \"cmu_us_bdl_arctic\", \"cmu_us_clb_arctic\", \"cmu_us_jmk_arctic\"] # , \"cmu_us_ksp_arctic\", \"cmu_us_rms_arctic\", \"cmu_us_slt_arctic\"\n",
    "speakerTypeN = 1\n",
    "if user == \"Felix\":\n",
    "    folderPath = \"./../../../../Shared/SoundLocalization/speech_database/\" + str(math.ceil(fs/1000)) + \"khz\" + \"/\"\n",
    "else:\n",
    "    folderPath = \"./../../../../Shared/SoundLocalization/speech_database/\" + str(math.ceil(fs/1000)) + \"khz\" + \"/\"\n",
    "#audioCh1Data = np.ndarray([0,windowSize*fs])\n",
    "#audioCh2Data = np.ndarray([0,windowSize*fs])\n",
    "readBatchOn = True;\n",
    "filterOn = False;"
   ]
  },
  {
   "cell_type": "code",
   "execution_count": 74,
   "metadata": {},
   "outputs": [
    {
     "name": "stdout",
     "output_type": "stream",
     "text": [
      "read data file\n",
      "finish load data file\n",
      "finished load data file\n"
     ]
    }
   ],
   "source": [
    "# read in data\n",
    "\n",
    "# init\n",
    "audioCh1Data = []\n",
    "audioCh2Data = []\n",
    "Y = []\n",
    "count = 0\n",
    "folderN = len(speakerType)\n",
    "if fs == 16000:\n",
    "    if featureType == \"raw\":\n",
    "        samplesN = 113599;\n",
    "        data = np.zeros((samplesN, angleN, filesN, micN, speakerTypeN), dtype = np.int16)\n",
    "    if featureType == \"magnitude\":\n",
    "        samplesN = 113851;\n",
    "        fftWindowT = int(samplesN / fftWindowN);\n",
    "        data = np.zeros((fftWindowN, fftWindowT, angleN, filesN, speakerTypeN, micN), dtype = np.int16)\n",
    "\n",
    "# read data\n",
    "for folder_i in range(speakerTypeN):\n",
    "    if readBatchOn:\n",
    "\n",
    "        # read data file\n",
    "        print (\"read data file\")\n",
    "        fs, data_i = wavfile.read(folderPath + \"/\" + speakerType[folder_i] + \"_\" + featureType + \".wav\")\n",
    "        print (\"finish load data file\")\n",
    "        \n",
    "        # \n",
    "        if filterOn:\n",
    "            sos = signal.butter(filterOrder, filterBand, 'bp', fs=fs, output='sos')\n",
    "            data_i[:,0] = signal.sosfilt(sos, data_i[:,0])\n",
    "            data_i[:,1] = signal.sosfilt(sos, data_i[:,1])\n",
    "            \n",
    "        # reshape into invidual databases\n",
    "        if featureType == \"raw\":\n",
    "            data_i = np.reshape(data_i, (samplesN, angleN, filesN, micN))\n",
    "        if featureType == \"magnitude\":\n",
    "            data_i = np.reshape(data_i, (fftWindowN, fftWindowT, angleN, filesN, micN))\n",
    "            \n",
    "        # merge into one database\n",
    "        data[:,:,:,:,folder_i,:] = data_i\n",
    "        \n",
    "        print (\"finished load data file\")\n",
    "        \n",
    "    else:\n",
    "        for i in os.listdir(folderPath + folder):           # iteration over all single data files\n",
    "            \n",
    "            # get meta data\n",
    "            deg = int(i[i.rfind(\"_\")+1:i.find(\"degree\")])/180*math.pi # read angle\n",
    "            dist = 1 # read distance\n",
    "            number = int(i[i.rfind(\"arctic\")+7:i.find(str(math.ceil(fs/1000)) + \"k\")-1]) # read file number\n",
    "            \n",
    "            # read data file\n",
    "            tempData = data\n",
    "            audioCh1 = data[:,0]\n",
    "            audioCh2 = data[:,1]\n",
    "            \n",
    "            # filter\n",
    "            if filterOn:\n",
    "                sos = signal.butter(filterOrder, filterBand, 'bp', fs=fs, output='sos')\n",
    "                audioCh1 = signal.sosfilt(sos, audioCh1)\n",
    "                audioCh2 = signal.sosfilt(sos, audioCh2)\n",
    "        \n",
    "            # window (rectangular)\n",
    "            tempData = list(more_itertools.windowed(audioCh1, n=int(windowSize*fs), step=int(windowIncrease*fs)))\n",
    "            tempData.pop()\n",
    "            audioCh1Data.extend(tempData)\n",
    "        \n",
    "            tempData = list(more_itertools.windowed(audioCh2, n=int(windowSize*fs), step=int(windowIncrease*fs)))\n",
    "            tempData.pop()\n",
    "            audioCh2Data.extend(tempData)\n",
    "        \n",
    "            # resphape into one array\n",
    "            dataSize = (np.shape(tempData))[0]\n",
    "            Y.extend(list(np.repeat([dist,deg],dataSize))) \n",
    "        \n",
    "            # log\n",
    "            print (i)"
   ]
  },
  {
   "cell_type": "code",
   "execution_count": 81,
   "metadata": {},
   "outputs": [
    {
     "name": "stdout",
     "output_type": "stream",
     "text": [
      "(257, 443, 8, 1132, 1, 2)\n",
      "(9056, 2)\n",
      "(9056, 257, 443, 2)\n"
     ]
    },
    {
     "data": {
      "image/png": "[encoded data removed]",
      "text/plain": [
       "<Figure size 864x576 with 1 Axes>"
      ]
     },
     "metadata": {
      "needs_background": "light"
     },
     "output_type": "display_data"
    }
   ],
   "source": [
    "# calculate features\n",
    "\n",
    "# show dimensions\n",
    "print (np.shape(data)) # frequency bins, time bins, angle, file number, speaker, channel\n",
    "\n",
    "\n",
    "# visualize features\n",
    "plt.figure(figsize=(12, 8))\n",
    "plt.subplot (221)\n",
    "t = np.linspace(1,fftWindowT, fftWindowT)\n",
    "f = np.linspace(1,fftWindowN, fftWindowN)\n",
    "plot_data = data[:,:,0,0,0,0]\n",
    "plot_data = plot_data / np.amax(np.amax(plot_data))\n",
    "plt.pcolormesh(t, f, plot_data)\n",
    "plt.ylabel('Frequency [Hz]')\n",
    "plt.xlabel('Time [sec]')\n",
    "\n",
    "# prepare features for neural network\n",
    "X = np.reshape(data, (fftWindowN, fftWindowT, angleN * filesN * speakerTypeN, micN))\n",
    "X = np.moveaxis(X, (0,1,2,3), (1,2,0,3))\n",
    "\n",
    "# get meta data\n",
    "deg = np.linspace(0, 359, angleN)\n",
    "deg = np.matlib.repmat(deg, 1, filesN  * speakerTypeN).transpose()\n",
    "dist = np.full((filesN * angleN * speakerTypeN, 1), 1)\n",
    "\n",
    "# prepare lables for neural network\n",
    "Y = np.vstack((deg.T, dist.T)).T\n",
    "print (np.shape(Y)) # speaker-angle-file number, angle, distance\n",
    "print (np.shape(X)) # speaker-angle-file number, frequency bins, time bins, channel\n"
   ]
  },
  {
   "cell_type": "code",
   "execution_count": 82,
   "metadata": {},
   "outputs": [
    {
     "name": "stdout",
     "output_type": "stream",
     "text": [
      "(7244, 257, 443, 2)\n",
      "(1812, 257, 443, 2)\n",
      "(7244, 2)\n",
      "(1812, 2)\n"
     ]
    }
   ],
   "source": [
    "X_train, X_validate, Y_train, Y_validate = train_test_split(X, Y, test_size = 0.2, random_state = 2)\n",
    "print (np.shape(X_train))\n",
    "print (np.shape(X_validate))\n",
    "print (np.shape(Y_train))\n",
    "print (np.shape(Y_validate))"
   ]
  },
  {
   "cell_type": "code",
   "execution_count": 22,
   "metadata": {},
   "outputs": [
    {
     "name": "stdout",
     "output_type": "stream",
     "text": [
      "Epoch 1/20\n",
      "9882/9882 [==============================] - 237s 24ms/step - loss: 0.1740 - mae: 0.1740 - mse: 0.0437\n",
      "Epoch 2/20\n",
      "9882/9882 [==============================] - 234s 24ms/step - loss: 0.1126 - mae: 0.1126 - mse: 0.0214\n",
      "Epoch 3/20\n",
      "9882/9882 [==============================] - 231s 23ms/step - loss: 0.0785 - mae: 0.0785 - mse: 0.0113\n",
      "Epoch 4/20\n",
      "9882/9882 [==============================] - 231s 23ms/step - loss: 0.0701 - mae: 0.0701 - mse: 0.0093\n",
      "Epoch 5/20\n",
      "9882/9882 [==============================] - 226s 23ms/step - loss: 0.0648 - mae: 0.0648 - mse: 0.0079\n",
      "Epoch 6/20\n",
      "9882/9882 [==============================] - 230s 23ms/step - loss: 0.0619 - mae: 0.0619 - mse: 0.0074\n",
      "Epoch 7/20\n",
      "9882/9882 [==============================] - 234s 24ms/step - loss: 0.0599 - mae: 0.0599 - mse: 0.0069\n",
      "Epoch 8/20\n",
      "9882/9882 [==============================] - 229s 23ms/step - loss: 0.0585 - mae: 0.0585 - mse: 0.0066\n",
      "Epoch 9/20\n",
      "9882/9882 [==============================] - 232s 24ms/step - loss: 0.0563 - mae: 0.0563 - mse: 0.0061\n",
      "Epoch 10/20\n",
      "9882/9882 [==============================] - 231s 23ms/step - loss: 0.0548 - mae: 0.0548 - mse: 0.0058\n",
      "Epoch 11/20\n",
      "9882/9882 [==============================] - 228s 23ms/step - loss: 0.0547 - mae: 0.0547 - mse: 0.0058\n",
      "Epoch 12/20\n",
      "9882/9882 [==============================] - 230s 23ms/step - loss: 0.0531 - mae: 0.0531 - mse: 0.0055\n",
      "Epoch 13/20\n",
      "9882/9882 [==============================] - 230s 23ms/step - loss: 0.0519 - mae: 0.0519 - mse: 0.0053\n",
      "Epoch 14/20\n",
      "9882/9882 [==============================] - 226s 23ms/step - loss: 0.0510 - mae: 0.0510 - mse: 0.0050\n",
      "Epoch 15/20\n",
      "9882/9882 [==============================] - 229s 23ms/step - loss: 0.0504 - mae: 0.0504 - mse: 0.0049\n",
      "Epoch 16/20\n",
      "9882/9882 [==============================] - 231s 23ms/step - loss: 0.0496 - mae: 0.0496 - mse: 0.0048\n",
      "Epoch 17/20\n",
      "9882/9882 [==============================] - 226s 23ms/step - loss: 0.0492 - mae: 0.0492 - mse: 0.0048\n",
      "Epoch 18/20\n",
      "9882/9882 [==============================] - 238s 24ms/step - loss: 0.0479 - mae: 0.0479 - mse: 0.0045\n",
      "Epoch 19/20\n",
      "9882/9882 [==============================] - 238s 24ms/step - loss: 0.0472 - mae: 0.0472 - mse: 0.0043\n",
      "Epoch 20/20\n",
      "9882/9882 [==============================] - 233s 24ms/step - loss: 0.0464 - mae: 0.0464 - mse: 0.0043\n"
     ]
    },
    {
     "data": {
      "text/plain": [
       "<keras.callbacks.callbacks.History at 0x1a456a7e9b0>"
      ]
     },
     "execution_count": 22,
     "metadata": {},
     "output_type": "execute_result"
    }
   ],
   "source": [
    "# Define batchsize and number of epochs\n",
    "batchSize = 20\n",
    "nEpochs = 20\n",
    "\n",
    "\n",
    "# Declare the sequential model and design your multi-layer perceptron\n",
    "model = models.Sequential()\n",
    "\n",
    "model.add(Conv2D(8, (3, 3), padding='same',\n",
    "                 input_shape=X_train.shape[1:]))\n",
    "model.add(Activation('relu'))\n",
    "model.add(BatchNormalization())\n",
    "model.add(MaxPooling2D(pool_size=(2, 2)))\n",
    "\n",
    "model.add(Conv2D(16, (3, 3), padding='same'))\n",
    "model.add(Activation('relu'))\n",
    "model.add(BatchNormalization())\n",
    "model.add(MaxPooling2D(pool_size=(2, 2)))\n",
    "\n",
    "model.add(Conv2D(32, (3, 3), padding='same'))\n",
    "model.add(Activation('relu'))\n",
    "model.add(BatchNormalization())\n",
    "model.add(MaxPooling2D(pool_size=(2, 2)))\n",
    "\n",
    "\n",
    "# model.add(Conv2D(64, (3, 3), padding='same'))\n",
    "# model.add(Activation('relu'))\n",
    "# model.add(BatchNormalization())\n",
    "# model.add(MaxPooling2D(pool_size=(2, 2)))\n",
    "\n",
    "# model.add(Conv2D(128, (3, 3), padding='same'))\n",
    "# model.add(Activation('relu'))\n",
    "# model.add(BatchNormalization())\n",
    "# model.add(MaxPooling2D(pool_size=(2, 2)))\n",
    "\n",
    "model.add(Reshape((16,1408)))\n",
    "model.add(Bidirectional(GRU(32)))\n",
    "\n",
    "#model.add(Bidirectional(GRU(64)))\n",
    "\n",
    "#model.add(Flatten())\n",
    "model.add(Dense(256))\n",
    "model.add(Activation('linear'))\n",
    "model.add(Dense(64))\n",
    "model.add(Activation('linear'))\n",
    "model.add(Dense(1))\n",
    "model.add(Activation('sigmoid'))\n",
    "\n",
    "# Compile your model\n",
    "model.compile(loss='mean_absolute_error',\n",
    "              optimizer='sgd',\n",
    "              metrics=['mae','mse'])\n",
    "\n",
    "X_train = X_train.astype('float16')\n",
    "X_validate = X_validate.astype('float16')\n",
    "Y_train = Y_train.astype('float16')\n",
    "Y_validate = Y_validate.astype('float16')\n",
    "\n",
    "# Train your model\n",
    "model.fit(X_train, Y_train[:,0], epochs = nEpochs , batch_size = batchSize)\n"
   ]
  },
  {
   "cell_type": "code",
   "execution_count": 23,
   "metadata": {},
   "outputs": [
    {
     "name": "stdout",
     "output_type": "stream",
     "text": [
      "Model: \"sequential_3\"\n",
      "_________________________________________________________________\n",
      "Layer (type)                 Output Shape              Param #   \n",
      "=================================================================\n",
      "conv2d_7 (Conv2D)            (None, 129, 358, 8)       296       \n",
      "_________________________________________________________________\n",
      "activation_12 (Activation)   (None, 129, 358, 8)       0         \n",
      "_________________________________________________________________\n",
      "batch_normalization_7 (Batch (None, 129, 358, 8)       32        \n",
      "_________________________________________________________________\n",
      "max_pooling2d_7 (MaxPooling2 (None, 64, 179, 8)        0         \n",
      "_________________________________________________________________\n",
      "conv2d_8 (Conv2D)            (None, 64, 179, 16)       1168      \n",
      "_________________________________________________________________\n",
      "activation_13 (Activation)   (None, 64, 179, 16)       0         \n",
      "_________________________________________________________________\n",
      "batch_normalization_8 (Batch (None, 64, 179, 16)       64        \n",
      "_________________________________________________________________\n",
      "max_pooling2d_8 (MaxPooling2 (None, 32, 89, 16)        0         \n",
      "_________________________________________________________________\n",
      "conv2d_9 (Conv2D)            (None, 32, 89, 32)        4640      \n",
      "_________________________________________________________________\n",
      "activation_14 (Activation)   (None, 32, 89, 32)        0         \n",
      "_________________________________________________________________\n",
      "batch_normalization_9 (Batch (None, 32, 89, 32)        128       \n",
      "_________________________________________________________________\n",
      "max_pooling2d_9 (MaxPooling2 (None, 16, 44, 32)        0         \n",
      "_________________________________________________________________\n",
      "reshape_3 (Reshape)          (None, 16, 1408)          0         \n",
      "_________________________________________________________________\n",
      "bidirectional_3 (Bidirection (None, 32)                136800    \n",
      "_________________________________________________________________\n",
      "dense_7 (Dense)              (None, 256)               8448      \n",
      "_________________________________________________________________\n",
      "activation_15 (Activation)   (None, 256)               0         \n",
      "_________________________________________________________________\n",
      "dense_8 (Dense)              (None, 64)                16448     \n",
      "_________________________________________________________________\n",
      "activation_16 (Activation)   (None, 64)                0         \n",
      "_________________________________________________________________\n",
      "dense_9 (Dense)              (None, 1)                 65        \n",
      "_________________________________________________________________\n",
      "activation_17 (Activation)   (None, 1)                 0         \n",
      "=================================================================\n",
      "Total params: 168,089\n",
      "Trainable params: 167,977\n",
      "Non-trainable params: 112\n",
      "_________________________________________________________________\n"
     ]
    }
   ],
   "source": [
    "model.build()\n",
    "model.summary ()"
   ]
  },
  {
   "cell_type": "code",
   "execution_count": 24,
   "metadata": {},
   "outputs": [
    {
     "name": "stdout",
     "output_type": "stream",
     "text": [
      "2471/2471 [==============================] - 18s 7ms/step\n"
     ]
    },
    {
     "data": {
      "text/plain": [
       "[0.064524416203069, 0.06452440470457077, 0.007977190427482128]"
      ]
     },
     "execution_count": 24,
     "metadata": {},
     "output_type": "execute_result"
    }
   ],
   "source": [
    "model.evaluate (X_validate,Y_validate[:,0])"
   ]
  },
  {
   "cell_type": "code",
   "execution_count": 26,
   "metadata": {},
   "outputs": [
    {
     "data": {
      "image/png": "[encoded data removed]",
      "text/plain": [
       "<Figure size 432x288 with 1 Axes>"
      ]
     },
     "metadata": {
      "needs_background": "light"
     },
     "output_type": "display_data"
    }
   ],
   "source": [
    "Y_pred = model.predict (X_validate)\n",
    "index = 0\n",
    "plt.plot (Y_pred[:,0],'bs',Y_validate[:,0],'g^')\n",
    "plt.show()"
   ]
  },
  {
   "cell_type": "code",
   "execution_count": null,
   "metadata": {},
   "outputs": [],
   "source": [
    "print (np.shape(Y_train))"
   ]
  },
  {
   "cell_type": "code",
   "execution_count": null,
   "metadata": {},
   "outputs": [],
   "source": [
    "print (np.average(audioCh1Data[700:800]))"
   ]
  },
  {
   "cell_type": "code",
   "execution_count": null,
   "metadata": {},
   "outputs": [],
   "source": [
    "np.save ('X.npy',X)\n",
    "np.save ('Y.npy',Y)"
   ]
  },
  {
   "cell_type": "code",
   "execution_count": 15,
   "metadata": {},
   "outputs": [],
   "source": [
    "model.save('angelGood.h5')"
   ]
  },
  {
   "cell_type": "code",
   "execution_count": null,
   "metadata": {},
   "outputs": [],
   "source": []
  }
 ],
 "metadata": {
  "kernelspec": {
   "display_name": "Python 3",
   "language": "python",
   "name": "python3"
  },
  "language_info": {
   "codemirror_mode": {
    "name": "ipython",
    "version": 3
   },
   "file_extension": ".py",
   "mimetype": "text/x-python",
   "name": "python",
   "nbconvert_exporter": "python",
   "pygments_lexer": "ipython3",
   "version": "3.7.3"
  }
 },
 "nbformat": 4,
 "nbformat_minor": 2
}
