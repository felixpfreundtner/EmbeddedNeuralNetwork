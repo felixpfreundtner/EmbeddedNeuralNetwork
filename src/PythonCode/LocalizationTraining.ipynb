{
 "cells": [
  {
   "cell_type": "code",
   "execution_count": 46,
   "metadata": {},
   "outputs": [
    {
     "name": "stdout",
     "output_type": "stream",
     "text": [
      "[name: \"/device:CPU:0\"\n",
      "device_type: \"CPU\"\n",
      "memory_limit: 268435456\n",
      "locality {\n",
      "}\n",
      "incarnation: 6931447553034842112\n",
      "]\n"
     ]
    }
   ],
   "source": [
    "# Import the necessary packages\n",
    "import os\n",
    "import numpy as np\n",
    "import numpy.matlib\n",
    "import math\n",
    "from itertools import *\n",
    "import more_itertools\n",
    "from scipy import signal\n",
    "from scipy.fftpack import fftshift\n",
    "from scipy.io import wavfile\n",
    "import matplotlib.pyplot as plt\n",
    "import pyfftw\n",
    "import simplespectral\n",
    " \n",
    "from sklearn.model_selection import train_test_split\n",
    "import tensorflow as tf\n",
    "from tensorflow import keras\n",
    "from tensorflow.python.client import device_lib\n",
    "print(device_lib.list_local_devices())\n"
   ]
  },
  {
   "cell_type": "code",
   "execution_count": 47,
   "metadata": {},
   "outputs": [],
   "source": [
    "# parameters\n",
    "user = \"Felix\"\n",
    "fs = 16000;\n",
    "filesN = 1132;\n",
    "angleN = 8;\n",
    "micN= 2;\n",
    "windowIncrease = 0.1 #in sec\n",
    "windowSize = 5 #in sec\n",
    "filterOrder = 10\n",
    "filterBand = [200,5000] #in Hertz\n",
    "fftWindowN = 257 # singlesided\n",
    "singleMic = True # sinle mic at CNN\n",
    "featureType = \"magnitude\"\n",
    "speakerType = [ \"cmu_us_clb_arctic\", \"cmu_us_bdl_arctic\", \"cmu_us_jmk_arctic\"]#, \"cmu_us_jmk_arctic\", cmu_us_bdl_arctic\", \"cmu_us_clb_arctic\", \"cmu_us_jmk_arctic\"] # , \"cmu_us_ksp_arctic\", \"cmu_us_rms_arctic\", \"cmu_us_slt_arctic\"\n",
    "speakerTypeN = 3\n",
    "if user == \"Felix\":\n",
    "    folderPath = \"./../../../../Shared/SoundLocalization/speech_database/\" + str(math.ceil(fs/1000)) + \"khz\" + \"/\"\n",
    "else:\n",
    "    folderPath = \"./../Polybox/SoundLocalization/speech_database/\" + str(math.ceil(fs/1000)) + \"khz\"\n",
    "#audioCh1Data = np.ndarray([0,windowSize*fs])\n",
    "#audioCh2Data = np.ndarray([0,windowSize*fs])\n",
    "readBatchOn = True;\n",
    "filterOn = False;"
   ]
  },
  {
   "cell_type": "code",
   "execution_count": 48,
   "metadata": {},
   "outputs": [
    {
     "name": "stdout",
     "output_type": "stream",
     "text": [
      "read data file\n",
      "finish load data file\n",
      "(1031034656, 2)\n",
      "(1132, 8, 443, 257, 2)\n",
      "data reshaped\n",
      "(3, 1132, 8, 443, 257, 2)\n",
      "read data file\n",
      "finish load data file\n",
      "(1031034656, 2)\n",
      "(1132, 8, 443, 257, 2)\n",
      "data reshaped\n",
      "(3, 1132, 8, 443, 257, 2)\n",
      "read data file\n",
      "finish load data file\n",
      "(1031034656, 2)\n",
      "(1132, 8, 443, 257, 2)\n",
      "data reshaped\n",
      "(3, 1132, 8, 443, 257, 2)\n",
      "finished all data files' load\n"
     ]
    }
   ],
   "source": [
    "# read in data\n",
    "\n",
    "# init\n",
    "audioCh1Data = []\n",
    "audioCh2Data = []\n",
    "Y = []\n",
    "count = 0\n",
    "folderN = len(speakerType)\n",
    "if fs == 16000:\n",
    "    if featureType == \"raw\":\n",
    "        samplesN = 113599;\n",
    "        data = np.zeros((samplesN, angleN, filesN, micN, speakerTypeN), dtype = np.int16)\n",
    "    if featureType == \"magnitude\":\n",
    "        samplesN = 113851;\n",
    "        fftWindowT = int(samplesN / fftWindowN);\n",
    "        data = np.zeros((speakerTypeN,filesN, angleN, fftWindowT, fftWindowN, micN), dtype = np.int16) # fftWindowN, fftWindowT, angleN, filesN, speakerTypeN, micN\n",
    "\n",
    "# read data\n",
    "for folder_i in range(speakerTypeN):\n",
    "    if readBatchOn:\n",
    "\n",
    "        # read data file\n",
    "        print (\"read data file\")\n",
    "        fs, data_i = wavfile.read(folderPath + \"/\" + speakerType[folder_i] + \"_\" + featureType + \".wav\")\n",
    "        print (\"finish load data file\")\n",
    "        print (np.shape(data_i))\n",
    "        # \n",
    "        if filterOn:\n",
    "            sos = signal.butter(filterOrder, filterBand, 'bp', fs=fs, output='sos')\n",
    "            data_i[:,0] = signal.sosfilt(sos, data_i[:,0])\n",
    "            data_i[:,1] = signal.sosfilt(sos, data_i[:,1])\n",
    "            \n",
    "        # reshape into invidual databases\n",
    "        if featureType == \"raw\":\n",
    "            data_i = np.reshape(data_i, (samplesN, angleN, filesN, micN))\n",
    "        if featureType == \"magnitude\":            \n",
    "            data_i = np.reshape(data_i, (filesN, angleN, fftWindowT, fftWindowN, micN))\n",
    "            print (np.shape(data_i))\n",
    "            \n",
    "        # merge into one database\n",
    "        data[folder_i,:,:,:,:,:] = data_i\n",
    "        \n",
    "        print(\"data reshaped\")\n",
    "        print(np.shape(data))\n",
    "        \n",
    "    else:\n",
    "        for i in os.listdir(folderPath + folder):           # iteration over all single data files\n",
    "            \n",
    "            # get meta data\n",
    "            deg = int(i[i.rfind(\"_\")+1:i.find(\"degree\")])/180*math.pi # read angle\n",
    "            dist = 1 # read distance\n",
    "            number = int(i[i.rfind(\"arctic\")+7:i.find(str(math.ceil(fs/1000)) + \"k\")-1]) # read file number\n",
    "            \n",
    "            # read data file\n",
    "            tempData = data\n",
    "            audioCh1 = data[:,0]\n",
    "            audioCh2 = data[:,1]\n",
    "            \n",
    "            # filter\n",
    "            if filterOn:\n",
    "                sos = signal.butter(filterOrder, filterBand, 'bp', fs=fs, output='sos')\n",
    "                audioCh1 = signal.sosfilt(sos, audioCh1)\n",
    "                audioCh2 = signal.sosfilt(sos, audioCh2)\n",
    "        \n",
    "            # window (rectangular)\n",
    "            tempData = list(more_itertools.windowed(audioCh1, n=int(windowSize*fs), step=int(windowIncrease*fs)))\n",
    "            tempData.pop()\n",
    "            audioCh1Data.extend(tempData)\n",
    "        \n",
    "            tempData = list(more_itertools.windowed(audioCh2, n=int(windowSize*fs), step=int(windowIncrease*fs)))\n",
    "            tempData.pop()\n",
    "            audioCh2Data.extend(tempData)\n",
    "        \n",
    "            # resphape into one array\n",
    "            dataSize = (np.shape(tempData))[0]\n",
    "            Y.extend(list(np.repeat([dist,deg],dataSize))) \n",
    "        \n",
    "            # log\n",
    "            print (i)\n",
    "            \n",
    "print (\"finished all data files' load\")"
   ]
  },
  {
   "cell_type": "code",
   "execution_count": 49,
   "metadata": {},
   "outputs": [
    {
     "name": "stdout",
     "output_type": "stream",
     "text": [
      "(3, 1132, 8, 443, 257, 2)\n",
      "(27168, 1)\n",
      "(27168, 50, 257, 2)\n"
     ]
    },
    {
     "data": {
      "image/png": "[encoded data removed]",
      "text/plain": [
       "<Figure size 864x576 with 4 Axes>"
      ]
     },
     "metadata": {
      "needs_background": "light"
     },
     "output_type": "display_data"
    }
   ],
   "source": [
    "# calculate features\n",
    "                        # speaker, file number, angle, time bins, frequency bins, channel\n",
    "\n",
    "# clip dataset to just 1.4sec of data\n",
    "fftWindowT_clipped = 50;\n",
    "data_clipped = data[:,:,:,100:100+fftWindowT_clipped,:,:]\n",
    "# show dimensions\n",
    "print (np.shape(data)) \n",
    "\n",
    "# visualize features\n",
    "plt.figure(figsize=(12, 8))\n",
    "plt.subplot (221)\n",
    "plot_data = data_clipped[0,1131,0,:,:,0]\n",
    "plot_data = plot_data / np.amax(np.amax(plot_data))\n",
    "plt.pcolormesh(plot_data.transpose())\n",
    "plt.ylabel('Frequency [Hz]')\n",
    "plt.xlabel('Time [sec]')\n",
    "plt.subplot (222)\n",
    "plot_data = data_clipped[0,1131,0,:,:,1]\n",
    "plot_data = plot_data / np.amax(np.amax(plot_data))\n",
    "plt.pcolormesh(plot_data.transpose())\n",
    "plt.ylabel('Frequency [Hz]')\n",
    "plt.xlabel('Time [sec]')\n",
    "\n",
    "# prepare features for neural network\n",
    "X = np.reshape(data_clipped, (angleN * filesN * speakerTypeN, fftWindowT_clipped, fftWindowN, micN))\n",
    "\n",
    "plt.subplot (223)\n",
    "plot_data = X[9048,:,:,0]\n",
    "plot_data = plot_data / np.amax(np.amax(plot_data))\n",
    "plt.pcolormesh(plot_data.transpose())\n",
    "plt.ylabel('Frequency [Hz]')\n",
    "plt.xlabel('Time [sec]')\n",
    "plt.subplot (224)\n",
    "plot_data = X[9048,:,:,1]\n",
    "plot_data = plot_data / np.amax(np.amax(plot_data))\n",
    "plt.pcolormesh(plot_data.transpose())\n",
    "plt.ylabel('Frequency [Hz]')\n",
    "plt.xlabel('Time [sec]')\n",
    "\n",
    "# get meta data\n",
    "deg = np.linspace(0, 315, angleN)\n",
    "deg = np.matlib.repmat(deg, 1, filesN  * speakerTypeN).transpose()\n",
    "#dist = np.full((filesN * angleN * speakerTypeN, 1), 1)\n",
    "\n",
    "# prepare lables for neural network\n",
    "#Y = np.vstack((deg.T, dist.T)).T\n",
    "Y = deg#/360\n",
    "print (np.shape(Y)) # speaker-angle-file number, angle, distance\n",
    "print (np.shape(X)) # speaker-angle-file number, time bins, frequency bins, channel\n",
    "\n"
   ]
  },
  {
   "cell_type": "code",
   "execution_count": 50,
   "metadata": {},
   "outputs": [
    {
     "name": "stdout",
     "output_type": "stream",
     "text": [
      "32767\n",
      "0\n",
      "(21734, 50, 65, 1)\n",
      "(5434, 50, 65, 1)\n",
      "(21734, 8)\n",
      "(5434, 8)\n",
      "(50, 65, 1)\n",
      "[name: \"/device:CPU:0\"\n",
      "device_type: \"CPU\"\n",
      "memory_limit: 268435456\n",
      "locality {\n",
      "}\n",
      "incarnation: 6839866019481080549\n",
      "]\n"
     ]
    }
   ],
   "source": [
    "print (np.max(X))\n",
    "print (np.min(X))\n",
    "\n",
    "XFFTSmall = X[:,:,0:257:4,:]\n",
    "if singleMic:\n",
    "    XFFTSmall = XFFTSmall[:,:,:,[0]]\n",
    "\n",
    "X_train, X_validate, Y_train, Y_validate = train_test_split(XFFTSmall, Y, test_size = 0.2, random_state = 2)\n",
    "\n",
    "Y_train = Y_train/45\n",
    "Y_train = keras.utils.to_categorical (Y_train,8)\n",
    "Y_validate = Y_validate/45\n",
    "Y_validate = keras.utils.to_categorical (Y_validate,8)\n",
    "\n",
    "print (np.shape(X_train))\n",
    "print (np.shape(X_validate))\n",
    "print (np.shape(Y_train))\n",
    "print (np.shape(Y_validate))\n",
    "\n",
    "# X_train = X_train.astype('float16')\n",
    "# X_validate = X_validate.astype('float16')\n",
    "# Y_train = Y_train.astype('float16')\n",
    "# Y_validate = Y_validate.astype('float16')\n",
    "print(X_train.shape[1:])\n",
    "from tensorflow.python.client import device_lib\n",
    "print(device_lib.list_local_devices())"
   ]
  },
  {
   "cell_type": "code",
   "execution_count": 51,
   "metadata": {},
   "outputs": [
    {
     "name": "stdout",
     "output_type": "stream",
     "text": [
      "Train on 21734 samples\n",
      "Epoch 1/30\n",
      "21734/21734 [==============================] - 69s 3ms/sample - loss: 2.0431 - accuracy: 0.2076\n",
      "Epoch 2/30\n",
      "21734/21734 [==============================] - 68s 3ms/sample - loss: 1.8170 - accuracy: 0.2906\n",
      "Epoch 3/30\n",
      "21734/21734 [==============================] - 68s 3ms/sample - loss: 1.6087 - accuracy: 0.3841\n",
      "Epoch 4/30\n",
      "21734/21734 [==============================] - 68s 3ms/sample - loss: 1.5256 - accuracy: 0.4186\n",
      "Epoch 5/30\n",
      "21734/21734 [==============================] - 68s 3ms/sample - loss: 1.4859 - accuracy: 0.4413\n",
      "Epoch 6/30\n",
      "21734/21734 [==============================] - 68s 3ms/sample - loss: 1.4274 - accuracy: 0.4616\n",
      "Epoch 7/30\n",
      "21734/21734 [==============================] - 68s 3ms/sample - loss: 1.3549 - accuracy: 0.4898\n",
      "Epoch 8/30\n",
      "21734/21734 [==============================] - 68s 3ms/sample - loss: 1.2728 - accuracy: 0.5191\n",
      "Epoch 9/30\n",
      "21734/21734 [==============================] - 69s 3ms/sample - loss: 1.2037 - accuracy: 0.5411\n",
      "Epoch 10/30\n",
      "21734/21734 [==============================] - 70s 3ms/sample - loss: 1.1622 - accuracy: 0.5499\n",
      "Epoch 11/30\n",
      "21734/21734 [==============================] - 70s 3ms/sample - loss: 1.1299 - accuracy: 0.5655\n",
      "Epoch 12/30\n",
      "21734/21734 [==============================] - 70s 3ms/sample - loss: 1.1098 - accuracy: 0.5726\n",
      "Epoch 13/30\n",
      "21734/21734 [==============================] - 70s 3ms/sample - loss: 1.0887 - accuracy: 0.5809\n",
      "Epoch 14/30\n",
      "21734/21734 [==============================] - 69s 3ms/sample - loss: 1.0696 - accuracy: 0.5865\n",
      "Epoch 15/30\n",
      "21734/21734 [==============================] - 70s 3ms/sample - loss: 1.0583 - accuracy: 0.5904\n",
      "Epoch 16/30\n",
      "21734/21734 [==============================] - 70s 3ms/sample - loss: 1.0438 - accuracy: 0.5959\n",
      "Epoch 17/30\n",
      "21734/21734 [==============================] - 70s 3ms/sample - loss: 1.0300 - accuracy: 0.5986\n",
      "Epoch 18/30\n",
      "21734/21734 [==============================] - 69s 3ms/sample - loss: 1.0248 - accuracy: 0.6029\n",
      "Epoch 19/30\n",
      "21734/21734 [==============================] - 69s 3ms/sample - loss: 1.0138 - accuracy: 0.6103\n",
      "Epoch 20/30\n",
      "21734/21734 [==============================] - 69s 3ms/sample - loss: 1.0088 - accuracy: 0.6122\n",
      "Epoch 21/30\n",
      "21734/21734 [==============================] - 69s 3ms/sample - loss: 0.9973 - accuracy: 0.6159\n",
      "Epoch 22/30\n",
      "21734/21734 [==============================] - 70s 3ms/sample - loss: 0.9899 - accuracy: 0.6157\n",
      "Epoch 23/30\n",
      "21734/21734 [==============================] - 70s 3ms/sample - loss: 0.9779 - accuracy: 0.6191\n",
      "Epoch 24/30\n",
      "21734/21734 [==============================] - 70s 3ms/sample - loss: 0.9921 - accuracy: 0.6210\n",
      "Epoch 25/30\n",
      "21734/21734 [==============================] - 73s 3ms/sample - loss: 0.9728 - accuracy: 0.6250\n",
      "Epoch 26/30\n",
      "21734/21734 [==============================] - 70s 3ms/sample - loss: 0.9730 - accuracy: 0.6257\n",
      "Epoch 27/30\n",
      "21734/21734 [==============================] - 70s 3ms/sample - loss: 0.9617 - accuracy: 0.6280\n",
      "Epoch 28/30\n",
      "21734/21734 [==============================] - 70s 3ms/sample - loss: 0.9513 - accuracy: 0.6327\n",
      "Epoch 29/30\n",
      "21734/21734 [==============================] - 70s 3ms/sample - loss: 0.9628 - accuracy: 0.6337\n",
      "Epoch 30/30\n",
      "21734/21734 [==============================] - 70s 3ms/sample - loss: 0.9500 - accuracy: 0.6351\n"
     ]
    },
    {
     "data": {
      "text/plain": [
       "<tensorflow.python.keras.callbacks.History at 0x26367462ac8>"
      ]
     },
     "execution_count": 51,
     "metadata": {},
     "output_type": "execute_result"
    }
   ],
   "source": [
    "# Define batchsize and number of epochs\n",
    "batchSize = 50\n",
    "nEpochs = 30\n",
    "\n",
    "#keras.backend.set_floatx('float16')\n",
    "\n",
    "# Declare the sequential model and design your multi-layer perceptron\n",
    "model = keras.models.Sequential()\n",
    "\n",
    "model.add (keras.layers.InputLayer(input_shape=X_train.shape[1:]))\n",
    "\n",
    "model.add(keras.layers.Conv2D(4, (3, 3), padding='same'))\n",
    "model.add(keras.layers.BatchNormalization())\n",
    "model.add(keras.layers.Activation('relu'))\n",
    "model.add(keras.layers.MaxPooling2D(pool_size=(1,4)))\n",
    "model.add(keras.layers.Dropout(0.2))\n",
    "\n",
    "model.add(keras.layers.Conv2D(4, (3, 3), padding='same'))\n",
    "model.add(keras.layers.BatchNormalization())\n",
    "model.add(keras.layers.Activation('relu'))\n",
    "model.add(keras.layers.MaxPooling2D(pool_size=(1,4)))\n",
    "model.add(keras.layers.Dropout(0.2))\n",
    "\n",
    "model.add(keras.layers.Conv2D(4, (3, 3), padding='same'))\n",
    "model.add(keras.layers.BatchNormalization())\n",
    "model.add(keras.layers.Activation('relu'))\n",
    "model.add(keras.layers.MaxPooling2D(pool_size=(1,2)))\n",
    "model.add(keras.layers.Dropout(0.2))\n",
    "\n",
    "#model.add(Reshape((4,fftWindowT_clipped)))\n",
    "#model.add(Bidirectional(GRU(4,activation='tanh',return_sequences=True),merge_mode='mul'))\n",
    "\n",
    "model.add(keras.layers.Flatten())\n",
    "model.add(keras.layers.Dense(32))\n",
    "model.add(keras.layers.Dense(16))\n",
    "model.add(keras.layers.Dense(8))\n",
    "model.add(keras.layers.Activation('softmax'))\n",
    "\n",
    "# Compile your model\n",
    "# model.compile(loss='mean_absolute_error',\n",
    "#               optimizer='sgd',\n",
    "#               metrics=['mae','mse'])\n",
    "model.compile(loss='categorical_crossentropy',\n",
    "              optimizer='adam',\n",
    "              metrics=['accuracy'])\n",
    "\n",
    "# Train your model\n",
    "model.fit(X_train, Y_train, epochs = nEpochs , batch_size = batchSize)\n"
   ]
  },
  {
   "cell_type": "code",
   "execution_count": 59,
   "metadata": {},
   "outputs": [
    {
     "name": "stdout",
     "output_type": "stream",
     "text": [
      "Model: \"sequential_5\"\n",
      "_________________________________________________________________\n",
      "Layer (type)                 Output Shape              Param #   \n",
      "=================================================================\n",
      "conv2d_7 (Conv2D)            (None, 50, 65, 4)         40        \n",
      "_________________________________________________________________\n",
      "batch_normalization_3 (Batch (None, 50, 65, 4)         16        \n",
      "_________________________________________________________________\n",
      "activation_4 (Activation)    (None, 50, 65, 4)         0         \n",
      "_________________________________________________________________\n",
      "max_pooling2d_3 (MaxPooling2 (None, 50, 16, 4)         0         \n",
      "_________________________________________________________________\n",
      "dropout_3 (Dropout)          (None, 50, 16, 4)         0         \n",
      "_________________________________________________________________\n",
      "conv2d_8 (Conv2D)            (None, 50, 16, 4)         148       \n",
      "_________________________________________________________________\n",
      "batch_normalization_4 (Batch (None, 50, 16, 4)         16        \n",
      "_________________________________________________________________\n",
      "activation_5 (Activation)    (None, 50, 16, 4)         0         \n",
      "_________________________________________________________________\n",
      "max_pooling2d_4 (MaxPooling2 (None, 50, 4, 4)          0         \n",
      "_________________________________________________________________\n",
      "dropout_4 (Dropout)          (None, 50, 4, 4)          0         \n",
      "_________________________________________________________________\n",
      "conv2d_9 (Conv2D)            (None, 50, 4, 4)          148       \n",
      "_________________________________________________________________\n",
      "batch_normalization_5 (Batch (None, 50, 4, 4)          16        \n",
      "_________________________________________________________________\n",
      "activation_6 (Activation)    (None, 50, 4, 4)          0         \n",
      "_________________________________________________________________\n",
      "max_pooling2d_5 (MaxPooling2 (None, 50, 2, 4)          0         \n",
      "_________________________________________________________________\n",
      "dropout_5 (Dropout)          (None, 50, 2, 4)          0         \n",
      "_________________________________________________________________\n",
      "flatten_1 (Flatten)          (None, 400)               0         \n",
      "_________________________________________________________________\n",
      "dense_3 (Dense)              (None, 32)                12832     \n",
      "_________________________________________________________________\n",
      "dense_4 (Dense)              (None, 16)                528       \n",
      "_________________________________________________________________\n",
      "dense_5 (Dense)              (None, 8)                 136       \n",
      "_________________________________________________________________\n",
      "activation_7 (Activation)    (None, 8)                 0         \n",
      "=================================================================\n",
      "Total params: 13,880\n",
      "Trainable params: 13,856\n",
      "Non-trainable params: 24\n",
      "_________________________________________________________________\n"
     ]
    }
   ],
   "source": [
    "model.build()\n",
    "model.summary ()"
   ]
  },
  {
   "cell_type": "code",
   "execution_count": 54,
   "metadata": {},
   "outputs": [
    {
     "name": "stdout",
     "output_type": "stream",
     "text": [
      "5434/5434 [==============================] - 7s 1ms/sample - loss: 0.8297 - accuracy: 0.6947\n"
     ]
    },
    {
     "data": {
      "text/plain": [
       "[0.8297287308208899, 0.69470006]"
      ]
     },
     "execution_count": 54,
     "metadata": {},
     "output_type": "execute_result"
    }
   ],
   "source": [
    "model.evaluate (X_validate,Y_validate)"
   ]
  },
  {
   "cell_type": "code",
   "execution_count": 58,
   "metadata": {},
   "outputs": [
    {
     "data": {
      "image/png": "[encoded data removed]",
      "text/plain": [
       "<Figure size 432x288 with 1 Axes>"
      ]
     },
     "metadata": {
      "needs_background": "light"
     },
     "output_type": "display_data"
    }
   ],
   "source": [
    "Y_pred = model.predict (X_validate)\n",
    "index = 0\n",
    "plt.plot (Y_pred[1:100,:],'bs',Y_validate[1:100,:],'g^')\n",
    "plt.show()"
   ]
  },
  {
   "cell_type": "code",
   "execution_count": 56,
   "metadata": {},
   "outputs": [
    {
     "name": "stdout",
     "output_type": "stream",
     "text": [
      "21734/21734 [==============================] - 26s 1ms/sample - loss: 0.8119 - accuracy: 0.6912\n"
     ]
    },
    {
     "data": {
      "text/plain": [
       "[0.8119090815920876, 0.6912211]"
      ]
     },
     "execution_count": 56,
     "metadata": {},
     "output_type": "execute_result"
    }
   ],
   "source": [
    "model.evaluate (X_train,Y_train)"
   ]
  },
  {
   "cell_type": "code",
   "execution_count": null,
   "metadata": {},
   "outputs": [],
   "source": [
    "Y_pred = model.predict (X_train)\n",
    "index = 0\n",
    "plt.plot (Y_pred,'bs',Y_train,'g^')\n",
    "plt.show()"
   ]
  },
  {
   "cell_type": "code",
   "execution_count": 57,
   "metadata": {},
   "outputs": [],
   "source": [
    "model.save ('classificationSmallTimeWithoutGRUSINGLEMIC.h5')"
   ]
  },
  {
   "cell_type": "code",
   "execution_count": null,
   "metadata": {},
   "outputs": [],
   "source": [
    "model = models.load_model('classificationSmallTimeWithoutGRU.h5')"
   ]
  },
  {
   "cell_type": "code",
   "execution_count": 12,
   "metadata": {},
   "outputs": [
    {
     "ename": "SyntaxError",
     "evalue": "invalid syntax (<ipython-input-12-cb235b7b1295>, line 1)",
     "output_type": "error",
     "traceback": [
      "\u001b[1;36m  File \u001b[1;32m\"<ipython-input-12-cb235b7b1295>\"\u001b[1;36m, line \u001b[1;32m1\u001b[0m\n\u001b[1;33m    print( 0:4:257 )\u001b[0m\n\u001b[1;37m            ^\u001b[0m\n\u001b[1;31mSyntaxError\u001b[0m\u001b[1;31m:\u001b[0m invalid syntax\n"
     ]
    }
   ],
   "source": []
  },
  {
   "cell_type": "code",
   "execution_count": null,
   "metadata": {},
   "outputs": [
    {
     "name": "stdout",
     "output_type": "stream",
     "text": [
      "32767\n"
     ]
    }
   ],
   "source": [
    "print(np.max(data));\n"
   ]
  }
 ],
 "metadata": {
  "kernelspec": {
   "display_name": "Python 3",
   "language": "python",
   "name": "python3"
  },
  "language_info": {
   "codemirror_mode": {
    "name": "ipython",
    "version": 3
   },
   "file_extension": ".py",
   "mimetype": "text/x-python",
   "name": "python",
   "nbconvert_exporter": "python",
   "pygments_lexer": "ipython3",
   "version": "3.7.3"
  }
 },
 "nbformat": 4,
 "nbformat_minor": 2
}
